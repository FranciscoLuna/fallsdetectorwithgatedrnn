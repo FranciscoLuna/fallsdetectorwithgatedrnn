{
 "cells": [
  {
   "cell_type": "markdown",
   "metadata": {},
   "source": [
    "# SisFall"
   ]
  },
  {
   "cell_type": "code",
   "execution_count": null,
   "metadata": {},
   "outputs": [],
   "source": []
  },
  {
   "cell_type": "code",
   "execution_count": 15,
   "metadata": {},
   "outputs": [],
   "source": [
    "from keras.models import Sequential\n",
    "from keras.layers import Dense, BatchNormalization\n",
    "from keras.layers import CuDNNLSTM, CuDNNGRU, Dropout\n",
    "from keras.optimizers import Adam, SGD\n",
    "import math\n",
    "import random\n",
    "import numpy as np\n",
    "import os\n",
    "\n",
    "import itertools\n",
    "\n",
    "import matplotlib.pyplot as plt\n",
    "from sklearn.metrics import confusion_matrix\n",
    "\n",
    "from keras.models import load_model\n",
    "from keras.utils import to_categorical\n",
    "\n",
    "# Import own methods\n",
    "\n",
    "import data_generator as dg\n",
    "import ml_utils as mlu\n"
   ]
  },
  {
   "cell_type": "markdown",
   "metadata": {},
   "source": [
    "Checking if GPU are avaliable"
   ]
  },
  {
   "cell_type": "code",
   "execution_count": 16,
   "metadata": {
    "scrolled": true
   },
   "outputs": [
    {
     "name": "stdout",
     "output_type": "stream",
     "text": [
      "Process Units detected by tensorflow: \n",
      "[name: \"/device:CPU:0\"\n",
      "device_type: \"CPU\"\n",
      "memory_limit: 268435456\n",
      "locality {\n",
      "}\n",
      "incarnation: 9329065219066151249\n",
      ", name: \"/device:XLA_CPU:0\"\n",
      "device_type: \"XLA_CPU\"\n",
      "memory_limit: 17179869184\n",
      "locality {\n",
      "}\n",
      "incarnation: 15654017805255508765\n",
      "physical_device_desc: \"device: XLA_CPU device\"\n",
      ", name: \"/device:XLA_GPU:0\"\n",
      "device_type: \"XLA_GPU\"\n",
      "memory_limit: 17179869184\n",
      "locality {\n",
      "}\n",
      "incarnation: 7867303476578891119\n",
      "physical_device_desc: \"device: XLA_GPU device\"\n",
      ", name: \"/device:GPU:0\"\n",
      "device_type: \"GPU\"\n",
      "memory_limit: 10586056295\n",
      "locality {\n",
      "  bus_id: 1\n",
      "  links {\n",
      "  }\n",
      "}\n",
      "incarnation: 8891044513671354242\n",
      "physical_device_desc: \"device: 0, name: GeForce GTX 1080 Ti, pci bus id: 0000:01:00.0, compute capability: 6.1\"\n",
      "]\n",
      "GPUs used by keras:\n"
     ]
    },
    {
     "data": {
      "text/plain": [
       "['/job:localhost/replica:0/task:0/device:GPU:0']"
      ]
     },
     "execution_count": 16,
     "metadata": {},
     "output_type": "execute_result"
    }
   ],
   "source": [
    "from tensorflow.python.client import device_lib\n",
    "from keras import backend as K\n",
    "\n",
    "print(\"Process Units detected by tensorflow: \")\n",
    "print(device_lib.list_local_devices())\n",
    "\n",
    "\n",
    "print(\"GPUs used by keras:\")\n",
    "K.tensorflow_backend._get_available_gpus()"
   ]
  },
  {
   "cell_type": "markdown",
   "metadata": {},
   "source": []
  },
  {
   "cell_type": "code",
   "execution_count": 3,
   "metadata": {
    "scrolled": true
   },
   "outputs": [
    {
     "name": "stdout",
     "output_type": "stream",
     "text": [
      "Loading data...\n",
      "\n",
      "Divided (train - test) found. Loading...\n",
      "\n",
      "Data loaded correctly\n",
      "\n",
      "Estructuring data in blocks...\n",
      "\n",
      "Data generated correctly\n"
     ]
    }
   ],
   "source": [
    "dataTrWinValues, dataTrWinLabel, dataTestWinValues, dataTestWinLabel, dataWinOrganization = \\\n",
    "dg.loadDataSetInBlocks('../', nTestUsers=8, windowSize=256, stride=128)"
   ]
  },
  {
   "cell_type": "markdown",
   "metadata": {},
   "source": []
  },
  {
   "cell_type": "code",
   "execution_count": 4,
   "metadata": {},
   "outputs": [
    {
     "name": "stdout",
     "output_type": "stream",
     "text": [
      "{0: 89631, 1: 1031, 2: 3380}\n",
      "89631 1031 3380\n",
      "[1, 86.93598448108632, 26.518047337278105]\n"
     ]
    }
   ],
   "source": [
    "unique, counts = np.unique(dataTrWinLabel, return_counts=True)\n",
    "\n",
    "dict_counts = dict(zip(unique,counts))\n",
    "print(dict_counts)\n",
    "\n",
    "N_bkg = dict_counts[0]\n",
    "N_alert = dict_counts[1]\n",
    "N_fall = dict_counts[2]\n",
    "\n",
    "print(N_bkg, N_alert, N_fall)\n",
    "\n",
    "w_bkg = 1\n",
    "w_alert = N_bkg / N_alert \n",
    "w_fall = N_bkg / N_fall\n",
    "\n",
    "target_weights = [w_bkg,w_alert,w_fall]\n",
    "print(target_weights)\n"
   ]
  },
  {
   "cell_type": "code",
   "execution_count": 5,
   "metadata": {},
   "outputs": [],
   "source": [
    "###############################################################\n",
    "#\n",
    "# The loss function implemented doesn't work with int targets\n",
    "from keras.utils import to_categorical\n",
    "\n",
    "dataTrWinLabelOneHot = to_categorical(dataTrWinLabel)\n",
    "dataTestWinLabelOneHot = to_categorical(dataTestWinLabel)\n",
    "\n",
    "###############################################################"
   ]
  },
  {
   "cell_type": "code",
   "execution_count": null,
   "metadata": {},
   "outputs": [],
   "source": []
  },
  {
   "cell_type": "markdown",
   "metadata": {},
   "source": [
    "#### Reducing the frequency"
   ]
  },
  {
   "cell_type": "code",
   "execution_count": 8,
   "metadata": {},
   "outputs": [
    {
     "data": {
      "text/plain": [
       "array([[   17,  -179,   -99, ...,    76,  -697,  -279],\n",
       "       [   15,  -174,   -90, ...,    48,  -675,  -254],\n",
       "       [    1,  -176,   -81, ...,    -2,  -668,  -221],\n",
       "       ...,\n",
       "       [  -71,  -338,   -45, ...,  -253, -1275,   -70],\n",
       "       [  -57,  -354,   -41, ...,  -242, -1353,   -36],\n",
       "       [  -52,  -363,   -33, ...,  -204, -1386,   -22]], dtype=int32)"
      ]
     },
     "execution_count": 8,
     "metadata": {},
     "output_type": "execute_result"
    }
   ],
   "source": [
    "one_sample = dataTrWinValues[0]\n",
    "one_sample"
   ]
  },
  {
   "cell_type": "code",
   "execution_count": 15,
   "metadata": {},
   "outputs": [
    {
     "data": {
      "text/plain": [
       "array([[   17,  -179,   -99, ...,    76,  -697,  -279],\n",
       "       [    1,  -176,   -81, ...,    -2,  -668,  -221],\n",
       "       [  -21,  -191,   -63, ...,   -74,  -741,  -133],\n",
       "       ...,\n",
       "       [  -61,  -257,   -72, ...,  -231,  -987,  -178],\n",
       "       [  -69,  -311,   -53, ...,  -260, -1178,  -113],\n",
       "       [  -57,  -354,   -41, ...,  -242, -1353,   -36]], dtype=int32)"
      ]
     },
     "execution_count": 15,
     "metadata": {},
     "output_type": "execute_result"
    }
   ],
   "source": [
    "one_sample_lower_freq = [one_sample[i] for i in range(len(one_sample)) if i%2==0]\n",
    "one_sample_lower_freq = np.array(one_sample_lower_freq)\n",
    "one_sample_lower_freq"
   ]
  },
  {
   "cell_type": "code",
   "execution_count": 6,
   "metadata": {},
   "outputs": [],
   "source": [
    "def reduce_frequency_of_window_samples(win_values):\n",
    "    win_values_with_lower_freq = list()\n",
    "    for sample in win_values:\n",
    "        sample_lower_freq = np.array([sample[i] for i in range(len(sample)) if i%2==0])\n",
    "        win_values_with_lower_freq.append(sample_lower_freq)\n",
    "    return np.array(win_values_with_lower_freq)"
   ]
  },
  {
   "cell_type": "code",
   "execution_count": 7,
   "metadata": {},
   "outputs": [],
   "source": [
    "dataTrWinValues100Hz = reduce_frequency_of_window_samples(dataTrWinValues)\n",
    "dataTestWinValues100Hz = reduce_frequency_of_window_samples(dataTestWinValues)"
   ]
  },
  {
   "cell_type": "code",
   "execution_count": 19,
   "metadata": {},
   "outputs": [
    {
     "data": {
      "text/plain": [
       "array([[   17,  -179,   -99, ...,    76,  -697,  -279],\n",
       "       [    1,  -176,   -81, ...,    -2,  -668,  -221],\n",
       "       [  -21,  -191,   -63, ...,   -74,  -741,  -133],\n",
       "       ...,\n",
       "       [  -61,  -257,   -72, ...,  -231,  -987,  -178],\n",
       "       [  -69,  -311,   -53, ...,  -260, -1178,  -113],\n",
       "       [  -57,  -354,   -41, ...,  -242, -1353,   -36]], dtype=int32)"
      ]
     },
     "execution_count": 19,
     "metadata": {},
     "output_type": "execute_result"
    }
   ],
   "source": []
  },
  {
   "cell_type": "code",
   "execution_count": null,
   "metadata": {},
   "outputs": [],
   "source": []
  },
  {
   "cell_type": "markdown",
   "metadata": {},
   "source": [
    "### Training methods"
   ]
  },
  {
   "cell_type": "code",
   "execution_count": 8,
   "metadata": {},
   "outputs": [],
   "source": [
    "def RnnMmodel(w = 256, rnn_type = 'lstm', two_rnn_layers=False, drop_coeff_rnn=0.2, drop_coeff_dense=0.5, first_dense=True):\n",
    "    \n",
    "    if not (rnn_type == 'lstm' or rnn_type == 'gru'):\n",
    "        print(\"rnn_type must be 'lstm' o  'gru'\")\n",
    "        return\n",
    "    \n",
    "    rnn_model = Sequential()\n",
    "    if (first_dense):\n",
    "        rnn_model.add(Dense(32, batch_input_shape = (None, w, 3)))\n",
    "        rnn_model.add(BatchNormalization())\n",
    "    else:\n",
    "        rnn_model.add(BatchNormalization(batch_input_shape = (None, w, 3)))\n",
    "    \n",
    "    rnn_model.add(Dropout(drop_coeff_rnn))\n",
    "    \n",
    "    if two_rnn_layers:\n",
    "        \n",
    "        if rnn_type == 'lstm':\n",
    "            rnn_model.add(CuDNNLSTM((32), return_sequences=True))\n",
    "        elif rnn_type == 'gru':\n",
    "            rnn_model.add(CuDNNGRU((32), return_sequences=True))\n",
    "        \n",
    "        if(drop_coeff_rnn != 0):\n",
    "            rnn_model.add(Dropout(drop_coeff_rnn))\n",
    "    \n",
    "    if rnn_type == 'lstm':\n",
    "        rnn_model.add(CuDNNLSTM((32)))\n",
    "    elif rnn_type == 'gru':\n",
    "        rnn_model.add(CuDNNGRU((32)))\n",
    "    \n",
    "    if(drop_coeff_dense !=0):\n",
    "        rnn_model.add(Dropout(drop_coeff_dense))\n",
    "    \n",
    "    rnn_model.add(Dense(3,activation='softmax'))\n",
    "    \n",
    "    return rnn_model\n",
    "    "
   ]
  },
  {
   "cell_type": "code",
   "execution_count": 9,
   "metadata": {},
   "outputs": [],
   "source": [
    "def trainRNNModel(dataTrVal, dataTrLab, dataTestVal, dataTestLab, epochs = 100, lr=0.001, w = 256, stride = 128, batch_size = 32, rnn_type = 'lstm', two_rnn_layers=False, drop_coeff_rnn=0.2, drop_coeff_dense=0.5, first_dense=True):\n",
    "    \n",
    "    dataTrLabelOneHot = to_categorical(dataTrLab)\n",
    "    dataTestLabelOneHot = to_categorical(dataTestLab)\n",
    "    \n",
    "    model = RnnMmodel(w, rnn_type, two_rnn_layers, drop_coeff_rnn, drop_coeff_dense, first_dense)\n",
    "    \n",
    "    model.summary()\n",
    "    \n",
    "    model_json = model.to_json()\n",
    "    \n",
    "    opt_adam = Adam(lr=lr)\n",
    "    \n",
    "    model.compile(optimizer=opt_adam, loss=mlu.weighted_categorical_crossentropy(target_weights), metrics=['accuracy'])\n",
    "\n",
    "    model_json = model.to_json()\n",
    "\n",
    "    model_train_history = model.fit(dataTrVal, dataTrLabelOneHot, batch_size=batch_size, epochs=epochs, validation_data = (dataTestVal, dataTestLabelOneHot))\n",
    "\n",
    "    model_prediction = model.predict(dataTestVal)\n",
    "\n",
    "    model_confusion_matrix = confusion_matrix(dataTestLab, np.argmax(model_prediction, axis = 1))\n",
    "\n",
    "    return model, model_train_history, model_confusion_matrix"
   ]
  },
  {
   "cell_type": "code",
   "execution_count": 10,
   "metadata": {
    "scrolled": true
   },
   "outputs": [
    {
     "name": "stdout",
     "output_type": "stream",
     "text": [
      "_________________________________________________________________\n",
      "Layer (type)                 Output Shape              Param #   \n",
      "=================================================================\n",
      "batch_normalization_1 (Batch (None, 128, 3)            12        \n",
      "_________________________________________________________________\n",
      "dropout_1 (Dropout)          (None, 128, 3)            0         \n",
      "_________________________________________________________________\n",
      "cu_dnngru_1 (CuDNNGRU)       (None, 32)                3552      \n",
      "_________________________________________________________________\n",
      "dense_1 (Dense)              (None, 3)                 99        \n",
      "=================================================================\n",
      "Total params: 3,663\n",
      "Trainable params: 3,657\n",
      "Non-trainable params: 6\n",
      "_________________________________________________________________\n",
      "Train on 94042 samples, validate on 22946 samples\n",
      "Epoch 1/125\n",
      "94042/94042 [==============================] - 29s 310us/step - loss: 2.4732 - acc: 0.5793 - val_loss: 2.1117 - val_acc: 0.6368\n",
      "Epoch 2/125\n",
      "94042/94042 [==============================] - 24s 258us/step - loss: 1.6585 - acc: 0.6860 - val_loss: 1.8559 - val_acc: 0.8096\n",
      "Epoch 3/125\n",
      "94042/94042 [==============================] - 25s 262us/step - loss: 1.3852 - acc: 0.7374 - val_loss: 1.9383 - val_acc: 0.9091\n",
      "Epoch 4/125\n",
      "94042/94042 [==============================] - 25s 261us/step - loss: 1.2245 - acc: 0.7958 - val_loss: 1.4179 - val_acc: 0.9112\n",
      "Epoch 5/125\n",
      "94042/94042 [==============================] - 25s 261us/step - loss: 1.1000 - acc: 0.8270 - val_loss: 1.6078 - val_acc: 0.9368\n",
      "Epoch 6/125\n",
      "94042/94042 [==============================] - 25s 263us/step - loss: 1.0107 - acc: 0.8659 - val_loss: 1.7217 - val_acc: 0.9490\n",
      "Epoch 7/125\n",
      "94042/94042 [==============================] - 25s 261us/step - loss: 0.9307 - acc: 0.8841 - val_loss: 1.4086 - val_acc: 0.9438\n",
      "Epoch 8/125\n",
      "94042/94042 [==============================] - 25s 262us/step - loss: 0.8853 - acc: 0.9027 - val_loss: 1.2729 - val_acc: 0.9610\n",
      "Epoch 9/125\n",
      "94042/94042 [==============================] - 25s 261us/step - loss: 0.8607 - acc: 0.9070 - val_loss: 1.1228 - val_acc: 0.9437\n",
      "Epoch 10/125\n",
      "94042/94042 [==============================] - 25s 262us/step - loss: 0.8135 - acc: 0.9105 - val_loss: 1.2695 - val_acc: 0.9515\n",
      "Epoch 11/125\n",
      "94042/94042 [==============================] - 25s 262us/step - loss: 0.7993 - acc: 0.9117 - val_loss: 1.1499 - val_acc: 0.9320\n",
      "Epoch 12/125\n",
      "94042/94042 [==============================] - 25s 263us/step - loss: 0.7981 - acc: 0.9164 - val_loss: 1.2081 - val_acc: 0.9515\n",
      "Epoch 13/125\n",
      "94042/94042 [==============================] - 25s 262us/step - loss: 0.7790 - acc: 0.9209 - val_loss: 1.0534 - val_acc: 0.9225\n",
      "Epoch 14/125\n",
      "94042/94042 [==============================] - 25s 263us/step - loss: 0.7410 - acc: 0.9228 - val_loss: 1.1698 - val_acc: 0.9485\n",
      "Epoch 15/125\n",
      "94042/94042 [==============================] - 25s 262us/step - loss: 0.7166 - acc: 0.9217 - val_loss: 1.0318 - val_acc: 0.9344\n",
      "Epoch 16/125\n",
      "94042/94042 [==============================] - 25s 262us/step - loss: 0.7340 - acc: 0.9167 - val_loss: 1.1895 - val_acc: 0.9186\n",
      "Epoch 17/125\n",
      "94042/94042 [==============================] - 25s 262us/step - loss: 0.7079 - acc: 0.9225 - val_loss: 1.0713 - val_acc: 0.9371\n",
      "Epoch 18/125\n",
      "94042/94042 [==============================] - 25s 262us/step - loss: 0.7000 - acc: 0.9231 - val_loss: 1.0580 - val_acc: 0.9470\n",
      "Epoch 19/125\n",
      "94042/94042 [==============================] - 25s 263us/step - loss: 0.6960 - acc: 0.9224 - val_loss: 1.0578 - val_acc: 0.9099\n",
      "Epoch 20/125\n",
      "94042/94042 [==============================] - 25s 262us/step - loss: 0.7045 - acc: 0.9196 - val_loss: 1.0529 - val_acc: 0.9480\n",
      "Epoch 21/125\n",
      "94042/94042 [==============================] - 25s 261us/step - loss: 0.6914 - acc: 0.9239 - val_loss: 1.0264 - val_acc: 0.9550\n",
      "Epoch 22/125\n",
      "94042/94042 [==============================] - 24s 260us/step - loss: 0.6780 - acc: 0.9287 - val_loss: 1.2740 - val_acc: 0.9438\n",
      "Epoch 23/125\n",
      "94042/94042 [==============================] - 25s 262us/step - loss: 0.6778 - acc: 0.9277 - val_loss: 1.1412 - val_acc: 0.9594\n",
      "Epoch 24/125\n",
      "94042/94042 [==============================] - 25s 261us/step - loss: 0.6589 - acc: 0.9287 - val_loss: 1.1546 - val_acc: 0.9364\n",
      "Epoch 25/125\n",
      "94042/94042 [==============================] - 25s 263us/step - loss: 0.6520 - acc: 0.9247 - val_loss: 1.0000 - val_acc: 0.9487\n",
      "Epoch 26/125\n",
      "94042/94042 [==============================] - 25s 263us/step - loss: 0.6670 - acc: 0.9272 - val_loss: 1.1271 - val_acc: 0.9498\n",
      "Epoch 27/125\n",
      "94042/94042 [==============================] - 25s 262us/step - loss: 0.6590 - acc: 0.9246 - val_loss: 1.0985 - val_acc: 0.9381\n",
      "Epoch 28/125\n",
      "94042/94042 [==============================] - 25s 261us/step - loss: 0.6401 - acc: 0.9277 - val_loss: 1.0751 - val_acc: 0.9563\n",
      "Epoch 29/125\n",
      "94042/94042 [==============================] - 25s 261us/step - loss: 0.6489 - acc: 0.9286 - val_loss: 1.0245 - val_acc: 0.9268\n",
      "Epoch 30/125\n",
      "94042/94042 [==============================] - 25s 262us/step - loss: 0.6297 - acc: 0.9260 - val_loss: 1.0697 - val_acc: 0.9426\n",
      "Epoch 31/125\n",
      "94042/94042 [==============================] - 25s 262us/step - loss: 0.6249 - acc: 0.9280 - val_loss: 1.0550 - val_acc: 0.9483\n",
      "Epoch 32/125\n",
      "94042/94042 [==============================] - 24s 260us/step - loss: 0.5809 - acc: 0.9314 - val_loss: 1.0375 - val_acc: 0.9366\n",
      "Epoch 33/125\n",
      "94042/94042 [==============================] - 24s 260us/step - loss: 0.6166 - acc: 0.9291 - val_loss: 1.1831 - val_acc: 0.9508\n",
      "Epoch 34/125\n",
      "94042/94042 [==============================] - 25s 262us/step - loss: 0.6137 - acc: 0.9266 - val_loss: 1.0894 - val_acc: 0.9343\n",
      "Epoch 35/125\n",
      "94042/94042 [==============================] - 24s 260us/step - loss: 0.6068 - acc: 0.9328 - val_loss: 1.2274 - val_acc: 0.9292\n",
      "Epoch 36/125\n",
      "94042/94042 [==============================] - 25s 263us/step - loss: 0.6102 - acc: 0.9316 - val_loss: 1.0914 - val_acc: 0.9430\n",
      "Epoch 37/125\n",
      "94042/94042 [==============================] - 25s 262us/step - loss: 0.6193 - acc: 0.9316 - val_loss: 1.2239 - val_acc: 0.9208\n",
      "Epoch 38/125\n",
      "94042/94042 [==============================] - 25s 261us/step - loss: 0.6002 - acc: 0.9305 - val_loss: 1.1007 - val_acc: 0.9436\n",
      "Epoch 39/125\n",
      "94042/94042 [==============================] - 25s 261us/step - loss: 0.5951 - acc: 0.9306 - val_loss: 1.0486 - val_acc: 0.9365\n",
      "Epoch 40/125\n",
      "94042/94042 [==============================] - 25s 261us/step - loss: 0.6102 - acc: 0.9313 - val_loss: 1.0386 - val_acc: 0.9432\n",
      "Epoch 41/125\n",
      "94042/94042 [==============================] - 25s 262us/step - loss: 0.5824 - acc: 0.9322 - val_loss: 1.0686 - val_acc: 0.9231\n",
      "Epoch 42/125\n",
      "94042/94042 [==============================] - 24s 260us/step - loss: 0.5913 - acc: 0.9289 - val_loss: 1.1808 - val_acc: 0.9491\n",
      "Epoch 43/125\n",
      "94042/94042 [==============================] - 25s 262us/step - loss: 0.5816 - acc: 0.9315 - val_loss: 1.0854 - val_acc: 0.9587\n",
      "Epoch 44/125\n",
      "94042/94042 [==============================] - 25s 261us/step - loss: 0.5903 - acc: 0.9340 - val_loss: 1.1631 - val_acc: 0.9475\n",
      "Epoch 45/125\n",
      "94042/94042 [==============================] - 25s 261us/step - loss: 0.5872 - acc: 0.9311 - val_loss: 1.1044 - val_acc: 0.9582\n",
      "Epoch 46/125\n",
      "94042/94042 [==============================] - 25s 263us/step - loss: 0.6132 - acc: 0.9312 - val_loss: 1.0856 - val_acc: 0.9582\n",
      "Epoch 47/125\n",
      "94042/94042 [==============================] - 25s 262us/step - loss: 0.5732 - acc: 0.9311 - val_loss: 1.0943 - val_acc: 0.9420\n",
      "Epoch 48/125\n",
      "94042/94042 [==============================] - 25s 261us/step - loss: 0.5667 - acc: 0.9301 - val_loss: 1.0478 - val_acc: 0.9548\n",
      "Epoch 49/125\n",
      "94042/94042 [==============================] - 25s 262us/step - loss: 0.5844 - acc: 0.9293 - val_loss: 1.1173 - val_acc: 0.9396\n",
      "Epoch 50/125\n",
      "94042/94042 [==============================] - 25s 262us/step - loss: 0.5705 - acc: 0.9303 - val_loss: 1.1478 - val_acc: 0.9432\n",
      "Epoch 51/125\n",
      "94042/94042 [==============================] - 25s 261us/step - loss: 0.5598 - acc: 0.9309 - val_loss: 1.0868 - val_acc: 0.9485\n",
      "Epoch 52/125\n",
      "94042/94042 [==============================] - 25s 262us/step - loss: 0.5726 - acc: 0.9299 - val_loss: 1.1819 - val_acc: 0.9551\n"
     ]
    },
    {
     "name": "stdout",
     "output_type": "stream",
     "text": [
      "Epoch 53/125\n",
      "94042/94042 [==============================] - 25s 262us/step - loss: 0.5511 - acc: 0.9342 - val_loss: 1.1451 - val_acc: 0.9532\n",
      "Epoch 54/125\n",
      "94042/94042 [==============================] - 25s 261us/step - loss: 0.5766 - acc: 0.9320 - val_loss: 1.0529 - val_acc: 0.9405\n",
      "Epoch 55/125\n",
      "94042/94042 [==============================] - 25s 262us/step - loss: 0.5677 - acc: 0.9305 - val_loss: 1.1703 - val_acc: 0.9563\n",
      "Epoch 56/125\n",
      "94042/94042 [==============================] - 25s 262us/step - loss: 0.5750 - acc: 0.9368 - val_loss: 1.2319 - val_acc: 0.9409\n",
      "Epoch 57/125\n",
      "94042/94042 [==============================] - 25s 262us/step - loss: 0.5617 - acc: 0.9353 - val_loss: 1.0840 - val_acc: 0.9265\n",
      "Epoch 58/125\n",
      "94042/94042 [==============================] - 25s 261us/step - loss: 0.5516 - acc: 0.9325 - val_loss: 1.0819 - val_acc: 0.9467\n",
      "Epoch 59/125\n",
      "94042/94042 [==============================] - 25s 261us/step - loss: 0.5489 - acc: 0.9335 - val_loss: 1.1496 - val_acc: 0.9477\n",
      "Epoch 60/125\n",
      "94042/94042 [==============================] - 25s 263us/step - loss: 0.5559 - acc: 0.9342 - val_loss: 1.1122 - val_acc: 0.9352\n",
      "Epoch 61/125\n",
      "94042/94042 [==============================] - 25s 262us/step - loss: 0.5640 - acc: 0.9331 - val_loss: 1.0250 - val_acc: 0.9454\n",
      "Epoch 62/125\n",
      "94042/94042 [==============================] - 24s 260us/step - loss: 0.5386 - acc: 0.9322 - val_loss: 1.1906 - val_acc: 0.9458\n",
      "Epoch 63/125\n",
      "94042/94042 [==============================] - 24s 260us/step - loss: 0.5692 - acc: 0.9333 - val_loss: 1.0982 - val_acc: 0.9597\n",
      "Epoch 64/125\n",
      "94042/94042 [==============================] - 24s 260us/step - loss: 0.5416 - acc: 0.9366 - val_loss: 0.9409 - val_acc: 0.9563\n",
      "Epoch 65/125\n",
      "94042/94042 [==============================] - 25s 264us/step - loss: 0.5608 - acc: 0.9317 - val_loss: 1.1247 - val_acc: 0.9295\n",
      "Epoch 66/125\n",
      "94042/94042 [==============================] - 25s 262us/step - loss: 0.5465 - acc: 0.9341 - val_loss: 1.0241 - val_acc: 0.9420\n",
      "Epoch 67/125\n",
      "94042/94042 [==============================] - 25s 263us/step - loss: 0.5464 - acc: 0.9337 - val_loss: 1.0390 - val_acc: 0.9424\n",
      "Epoch 68/125\n",
      "94042/94042 [==============================] - 25s 262us/step - loss: 0.5392 - acc: 0.9344 - val_loss: 1.0359 - val_acc: 0.9312\n",
      "Epoch 69/125\n",
      "94042/94042 [==============================] - 25s 262us/step - loss: 0.5483 - acc: 0.9320 - val_loss: 1.1833 - val_acc: 0.9404\n",
      "Epoch 70/125\n",
      "94042/94042 [==============================] - 25s 261us/step - loss: 0.5351 - acc: 0.9320 - val_loss: 1.0407 - val_acc: 0.9462\n",
      "Epoch 71/125\n",
      "94042/94042 [==============================] - 25s 263us/step - loss: 0.5172 - acc: 0.9364 - val_loss: 1.1163 - val_acc: 0.9518\n",
      "Epoch 72/125\n",
      "94042/94042 [==============================] - 25s 261us/step - loss: 0.5434 - acc: 0.9332 - val_loss: 1.0536 - val_acc: 0.9469\n",
      "Epoch 73/125\n",
      "94042/94042 [==============================] - 25s 261us/step - loss: 0.5326 - acc: 0.9340 - val_loss: 1.0630 - val_acc: 0.9387\n",
      "Epoch 74/125\n",
      "94042/94042 [==============================] - 25s 262us/step - loss: 0.5099 - acc: 0.9358 - val_loss: 1.1269 - val_acc: 0.9409\n",
      "Epoch 75/125\n",
      "94042/94042 [==============================] - 25s 261us/step - loss: 0.5261 - acc: 0.9337 - val_loss: 1.0051 - val_acc: 0.9408\n",
      "Epoch 76/125\n",
      "94042/94042 [==============================] - 25s 261us/step - loss: 0.5311 - acc: 0.9336 - val_loss: 1.1645 - val_acc: 0.9381\n",
      "Epoch 77/125\n",
      "94042/94042 [==============================] - 25s 261us/step - loss: 0.5255 - acc: 0.9355 - val_loss: 1.2083 - val_acc: 0.9484\n",
      "Epoch 78/125\n",
      "94042/94042 [==============================] - 25s 263us/step - loss: 0.5265 - acc: 0.9360 - val_loss: 1.1883 - val_acc: 0.9487\n",
      "Epoch 79/125\n",
      "94042/94042 [==============================] - 25s 263us/step - loss: 0.5078 - acc: 0.9391 - val_loss: 1.1048 - val_acc: 0.9395\n",
      "Epoch 80/125\n",
      "94042/94042 [==============================] - 25s 261us/step - loss: 0.5133 - acc: 0.9366 - val_loss: 1.1188 - val_acc: 0.9338\n",
      "Epoch 81/125\n",
      "94042/94042 [==============================] - 25s 261us/step - loss: 0.5269 - acc: 0.9364 - val_loss: 1.1344 - val_acc: 0.9345\n",
      "Epoch 82/125\n",
      "94042/94042 [==============================] - 25s 263us/step - loss: 0.5083 - acc: 0.9355 - val_loss: 0.9960 - val_acc: 0.9311\n",
      "Epoch 83/125\n",
      "94042/94042 [==============================] - 24s 260us/step - loss: 0.5003 - acc: 0.9375 - val_loss: 1.2955 - val_acc: 0.9045\n",
      "Epoch 84/125\n",
      "94042/94042 [==============================] - 25s 264us/step - loss: 0.5082 - acc: 0.9380 - val_loss: 1.2719 - val_acc: 0.9470\n",
      "Epoch 85/125\n",
      "94042/94042 [==============================] - 25s 263us/step - loss: 0.5000 - acc: 0.9381 - val_loss: 1.1146 - val_acc: 0.9424\n",
      "Epoch 86/125\n",
      "94042/94042 [==============================] - 25s 261us/step - loss: 0.5058 - acc: 0.9341 - val_loss: 1.3091 - val_acc: 0.8893\n",
      "Epoch 87/125\n",
      "94042/94042 [==============================] - 25s 263us/step - loss: 0.5316 - acc: 0.9324 - val_loss: 1.3863 - val_acc: 0.9245\n",
      "Epoch 88/125\n",
      "94042/94042 [==============================] - 25s 262us/step - loss: 0.5211 - acc: 0.9372 - val_loss: 1.2291 - val_acc: 0.9314\n",
      "Epoch 89/125\n",
      "94042/94042 [==============================] - 25s 261us/step - loss: 0.5281 - acc: 0.9358 - val_loss: 1.1811 - val_acc: 0.9352\n",
      "Epoch 90/125\n",
      "94042/94042 [==============================] - 24s 260us/step - loss: 0.4888 - acc: 0.9348 - val_loss: 1.2510 - val_acc: 0.9296\n",
      "Epoch 91/125\n",
      "94042/94042 [==============================] - 25s 261us/step - loss: 0.5248 - acc: 0.9346 - val_loss: 1.1548 - val_acc: 0.9399\n",
      "Epoch 92/125\n",
      "94042/94042 [==============================] - 25s 262us/step - loss: 0.5148 - acc: 0.9373 - val_loss: 1.2511 - val_acc: 0.9516\n",
      "Epoch 93/125\n",
      "94042/94042 [==============================] - 25s 261us/step - loss: 0.4966 - acc: 0.9344 - val_loss: 1.0902 - val_acc: 0.9276\n",
      "Epoch 94/125\n",
      "94042/94042 [==============================] - 25s 261us/step - loss: 0.4935 - acc: 0.9345 - val_loss: 1.1641 - val_acc: 0.9378\n",
      "Epoch 95/125\n",
      "94042/94042 [==============================] - 25s 261us/step - loss: 0.5051 - acc: 0.9338 - val_loss: 1.2101 - val_acc: 0.9136\n",
      "Epoch 96/125\n",
      "94042/94042 [==============================] - 25s 262us/step - loss: 0.4968 - acc: 0.9358 - val_loss: 1.1897 - val_acc: 0.9509\n",
      "Epoch 97/125\n",
      "94042/94042 [==============================] - 25s 262us/step - loss: 0.5163 - acc: 0.9355 - val_loss: 1.0119 - val_acc: 0.9393\n",
      "Epoch 98/125\n",
      "94042/94042 [==============================] - 24s 260us/step - loss: 0.4662 - acc: 0.9390 - val_loss: 1.1796 - val_acc: 0.9313\n",
      "Epoch 99/125\n",
      "94042/94042 [==============================] - 25s 261us/step - loss: 0.5143 - acc: 0.9342 - val_loss: 1.2302 - val_acc: 0.9134\n",
      "Epoch 100/125\n",
      "94042/94042 [==============================] - 25s 261us/step - loss: 0.5393 - acc: 0.9320 - val_loss: 1.2996 - val_acc: 0.8784\n",
      "Epoch 101/125\n",
      "94042/94042 [==============================] - 24s 260us/step - loss: 1.0016 - acc: 0.8314 - val_loss: 1.5917 - val_acc: 0.8962\n",
      "Epoch 102/125\n",
      "94042/94042 [==============================] - 25s 262us/step - loss: 1.0140 - acc: 0.8211 - val_loss: 1.4109 - val_acc: 0.8598\n",
      "Epoch 103/125\n",
      "94042/94042 [==============================] - 25s 262us/step - loss: 0.9099 - acc: 0.8465 - val_loss: 1.2649 - val_acc: 0.8630\n",
      "Epoch 104/125\n",
      "94042/94042 [==============================] - 25s 261us/step - loss: 0.8466 - acc: 0.8613 - val_loss: 1.2383 - val_acc: 0.8581\n",
      "Epoch 105/125\n",
      "94042/94042 [==============================] - 25s 263us/step - loss: 0.7755 - acc: 0.8815 - val_loss: 1.2749 - val_acc: 0.9078\n",
      "Epoch 106/125\n",
      "94042/94042 [==============================] - 24s 259us/step - loss: 0.6964 - acc: 0.9105 - val_loss: 1.1057 - val_acc: 0.9160\n",
      "Epoch 107/125\n",
      "94042/94042 [==============================] - 24s 260us/step - loss: 0.6413 - acc: 0.9141 - val_loss: 1.1327 - val_acc: 0.9216\n",
      "Epoch 108/125\n",
      "94042/94042 [==============================] - 25s 261us/step - loss: 0.5975 - acc: 0.9244 - val_loss: 1.0867 - val_acc: 0.9413\n",
      "Epoch 109/125\n",
      "94042/94042 [==============================] - 25s 261us/step - loss: 0.5742 - acc: 0.9352 - val_loss: 1.2099 - val_acc: 0.9459\n",
      "Epoch 110/125\n",
      "94042/94042 [==============================] - 24s 259us/step - loss: 0.5515 - acc: 0.9376 - val_loss: 1.3093 - val_acc: 0.9621\n",
      "Epoch 111/125\n"
     ]
    },
    {
     "name": "stdout",
     "output_type": "stream",
     "text": [
      "94042/94042 [==============================] - 24s 258us/step - loss: 0.5010 - acc: 0.9396 - val_loss: 1.2276 - val_acc: 0.9283\n",
      "Epoch 112/125\n",
      "94042/94042 [==============================] - 25s 263us/step - loss: 0.6581 - acc: 0.9076 - val_loss: 1.3978 - val_acc: 0.9127\n",
      "Epoch 113/125\n",
      "94042/94042 [==============================] - 25s 261us/step - loss: 0.7461 - acc: 0.8993 - val_loss: 1.1890 - val_acc: 0.9177\n",
      "Epoch 114/125\n",
      "94042/94042 [==============================] - 25s 261us/step - loss: 0.5898 - acc: 0.9309 - val_loss: 1.2555 - val_acc: 0.9595\n",
      "Epoch 115/125\n",
      "94042/94042 [==============================] - 25s 262us/step - loss: 0.5523 - acc: 0.9376 - val_loss: 1.1131 - val_acc: 0.9426\n",
      "Epoch 116/125\n",
      "94042/94042 [==============================] - 25s 263us/step - loss: 0.5026 - acc: 0.9410 - val_loss: 1.1672 - val_acc: 0.9184\n",
      "Epoch 117/125\n",
      "94042/94042 [==============================] - 25s 264us/step - loss: 0.5065 - acc: 0.9365 - val_loss: 1.1622 - val_acc: 0.9371\n",
      "Epoch 118/125\n",
      "94042/94042 [==============================] - 25s 268us/step - loss: 0.4917 - acc: 0.9386 - val_loss: 1.0774 - val_acc: 0.9301\n",
      "Epoch 119/125\n",
      "94042/94042 [==============================] - 25s 267us/step - loss: 0.5210 - acc: 0.9347 - val_loss: 1.0885 - val_acc: 0.9362\n",
      "Epoch 120/125\n",
      "94042/94042 [==============================] - 25s 266us/step - loss: 0.4844 - acc: 0.9368 - val_loss: 1.1055 - val_acc: 0.9493\n",
      "Epoch 121/125\n",
      "94042/94042 [==============================] - 25s 267us/step - loss: 0.5040 - acc: 0.9380 - val_loss: 1.0351 - val_acc: 0.9491\n",
      "Epoch 122/125\n",
      "94042/94042 [==============================] - 25s 265us/step - loss: 0.4794 - acc: 0.9387 - val_loss: 1.2029 - val_acc: 0.9419\n",
      "Epoch 123/125\n",
      "94042/94042 [==============================] - 25s 265us/step - loss: 0.4822 - acc: 0.9394 - val_loss: 1.1192 - val_acc: 0.9492\n",
      "Epoch 124/125\n",
      "94042/94042 [==============================] - 25s 266us/step - loss: 0.4841 - acc: 0.9389 - val_loss: 1.1687 - val_acc: 0.9555\n",
      "Epoch 125/125\n",
      "94042/94042 [==============================] - 25s 268us/step - loss: 0.4849 - acc: 0.9374 - val_loss: 0.9903 - val_acc: 0.9488\n"
     ]
    }
   ],
   "source": [
    "results = trainRNNModel(dataTrWinValues100Hz[:,:,:3], dataTrWinLabel, dataTestWinValues100Hz[:,:,:3], dataTestWinLabel, epochs = 125, lr=0.001, w = 128, stride = 64, batch_size = 32, rnn_type = 'gru', two_rnn_layers=False, drop_coeff_rnn=0.35, drop_coeff_dense=0.0, first_dense=False)"
   ]
  },
  {
   "cell_type": "code",
   "execution_count": 251,
   "metadata": {},
   "outputs": [
    {
     "name": "stdout",
     "output_type": "stream",
     "text": [
      "_________________________________________________________________\n",
      "Layer (type)                 Output Shape              Param #   \n",
      "=================================================================\n",
      "batch_normalization_3 (Batch (None, 256, 3)            12        \n",
      "_________________________________________________________________\n",
      "dropout_3 (Dropout)          (None, 256, 3)            0         \n",
      "_________________________________________________________________\n",
      "cu_dnnlstm_3 (CuDNNLSTM)     (None, 32)                4736      \n",
      "_________________________________________________________________\n",
      "dropout_4 (Dropout)          (None, 32)                0         \n",
      "_________________________________________________________________\n",
      "dense_3 (Dense)              (None, 3)                 99        \n",
      "=================================================================\n",
      "Total params: 4,847\n",
      "Trainable params: 4,841\n",
      "Non-trainable params: 6\n",
      "_________________________________________________________________\n"
     ]
    }
   ],
   "source": [
    "#plt.plot(results[1].history['val_acc'])\n",
    "#plt.show()\n",
    "#type(results[1].history['val_acc'])\n",
    "#type(results[2])\n",
    "results[0].summary()"
   ]
  },
  {
   "cell_type": "code",
   "execution_count": 11,
   "metadata": {},
   "outputs": [
    {
     "data": {
      "image/png": "[encoded data removed]",
      "text/plain": [
       "<Figure size 432x288 with 1 Axes>"
      ]
     },
     "metadata": {
      "needs_background": "light"
     },
     "output_type": "display_data"
    }
   ],
   "source": [
    "trained_model = results[0]\n",
    "train_info = results[1].history\n",
    "eval_info = results[2]\n",
    "model_performance_info = { 'train_history' : train_info, 'eval_results' : eval_info, 'optional_data' : 'test_subjects=8, w=256, stride=128'}\n",
    "plt.plot(results[1].history['loss'])\n",
    "plt.show()"
   ]
  },
  {
   "cell_type": "code",
   "execution_count": 12,
   "metadata": {
    "scrolled": true
   },
   "outputs": [
    {
     "name": "stdout",
     "output_type": "stream",
     "text": [
      "Confusion matrix, without normalization\n",
      "[[20914   904   149]\n",
      " [   47   276    19]\n",
      " [    4    52   581]]\n",
      "Normalized confusion matrix\n",
      "[[0.95 0.04 0.01]\n",
      " [0.14 0.81 0.06]\n",
      " [0.01 0.08 0.91]]\n"
     ]
    },
    {
     "data": {
      "image/png": "[encoded data removed]",
      "text/plain": [
       "<Figure size 432x288 with 2 Axes>"
      ]
     },
     "metadata": {
      "needs_background": "light"
     },
     "output_type": "display_data"
    },
    {
     "data": {
      "image/png": "[encoded data removed]",
      "text/plain": [
       "<Figure size 432x288 with 2 Axes>"
      ]
     },
     "metadata": {
      "needs_background": "light"
     },
     "output_type": "display_data"
    }
   ],
   "source": [
    "model_confusion_matrix = results[2]\n",
    "np.set_printoptions(precision=2)\n",
    "\n",
    "# Plot non-normalized confusion matrix\n",
    "plt.figure()\n",
    "mlu.plot_confusion_matrix(model_confusion_matrix, classes=['BKG', 'ALERT', 'FALL'],\n",
    "                      title='Confusion matrix, without normalization')\n",
    "\n",
    "# Plot normalized confusion matrix\n",
    "plt.figure()\n",
    "mlu.plot_confusion_matrix(model_confusion_matrix, classes=['BKG', 'ALERT', 'FALL'], normalize=True,\n",
    "                      title='Normalized confusion matrix')\n",
    "\n",
    "plt.show()"
   ]
  },
  {
   "cell_type": "markdown",
   "metadata": {},
   "source": [
    "### Frequency of 50 Hz"
   ]
  },
  {
   "cell_type": "code",
   "execution_count": 13,
   "metadata": {},
   "outputs": [],
   "source": [
    "dataTrWinValues50Hz = reduce_frequency_of_window_samples(dataTrWinValues100Hz)\n",
    "dataTestWinValues50Hz = reduce_frequency_of_window_samples(dataTestWinValues100Hz)"
   ]
  },
  {
   "cell_type": "code",
   "execution_count": 14,
   "metadata": {
    "scrolled": true
   },
   "outputs": [
    {
     "name": "stdout",
     "output_type": "stream",
     "text": [
      "_________________________________________________________________\n",
      "Layer (type)                 Output Shape              Param #   \n",
      "=================================================================\n",
      "batch_normalization_2 (Batch (None, 64, 3)             12        \n",
      "_________________________________________________________________\n",
      "dropout_2 (Dropout)          (None, 64, 3)             0         \n",
      "_________________________________________________________________\n",
      "cu_dnnlstm_1 (CuDNNLSTM)     (None, 32)                4736      \n",
      "_________________________________________________________________\n",
      "dense_2 (Dense)              (None, 3)                 99        \n",
      "=================================================================\n",
      "Total params: 4,847\n",
      "Trainable params: 4,841\n",
      "Non-trainable params: 6\n",
      "_________________________________________________________________\n",
      "Train on 94042 samples, validate on 22946 samples\n",
      "Epoch 1/125\n",
      "94042/94042 [==============================] - 20s 211us/step - loss: 2.1094 - acc: 0.6071 - val_loss: 1.8358 - val_acc: 0.6273\n",
      "Epoch 2/125\n",
      "94042/94042 [==============================] - 19s 206us/step - loss: 1.5431 - acc: 0.6505 - val_loss: 1.5757 - val_acc: 0.7829\n",
      "Epoch 3/125\n",
      "94042/94042 [==============================] - 19s 206us/step - loss: 1.3453 - acc: 0.7268 - val_loss: 1.6686 - val_acc: 0.7952\n",
      "Epoch 4/125\n",
      "94042/94042 [==============================] - 19s 205us/step - loss: 1.2161 - acc: 0.8216 - val_loss: 1.2553 - val_acc: 0.8839\n",
      "Epoch 5/125\n",
      "94042/94042 [==============================] - 19s 206us/step - loss: 1.1171 - acc: 0.8565 - val_loss: 1.5017 - val_acc: 0.9592\n",
      "Epoch 6/125\n",
      "94042/94042 [==============================] - 19s 205us/step - loss: 1.0097 - acc: 0.8841 - val_loss: 1.4435 - val_acc: 0.9607\n",
      "Epoch 7/125\n",
      "94042/94042 [==============================] - 20s 208us/step - loss: 0.9757 - acc: 0.8911 - val_loss: 1.1409 - val_acc: 0.9571\n",
      "Epoch 8/125\n",
      "94042/94042 [==============================] - 19s 205us/step - loss: 0.9461 - acc: 0.8912 - val_loss: 1.2297 - val_acc: 0.9630\n",
      "Epoch 9/125\n",
      "94042/94042 [==============================] - 19s 205us/step - loss: 0.9080 - acc: 0.9003 - val_loss: 1.2222 - val_acc: 0.9504\n",
      "Epoch 10/125\n",
      "94042/94042 [==============================] - 19s 206us/step - loss: 0.8531 - acc: 0.9074 - val_loss: 1.2841 - val_acc: 0.8902\n",
      "Epoch 11/125\n",
      "94042/94042 [==============================] - 19s 207us/step - loss: 0.8634 - acc: 0.9132 - val_loss: 1.3612 - val_acc: 0.9413\n",
      "Epoch 12/125\n",
      "94042/94042 [==============================] - 19s 207us/step - loss: 0.8312 - acc: 0.9181 - val_loss: 1.1377 - val_acc: 0.9261\n",
      "Epoch 13/125\n",
      "94042/94042 [==============================] - 19s 207us/step - loss: 0.8297 - acc: 0.9146 - val_loss: 1.0960 - val_acc: 0.9169\n",
      "Epoch 14/125\n",
      "94042/94042 [==============================] - 19s 207us/step - loss: 0.8282 - acc: 0.9191 - val_loss: 1.0858 - val_acc: 0.9474\n",
      "Epoch 15/125\n",
      "94042/94042 [==============================] - 19s 207us/step - loss: 0.8002 - acc: 0.9240 - val_loss: 1.1234 - val_acc: 0.9405\n",
      "Epoch 16/125\n",
      "94042/94042 [==============================] - 20s 208us/step - loss: 0.7756 - acc: 0.9234 - val_loss: 1.2850 - val_acc: 0.9573\n",
      "Epoch 17/125\n",
      "94042/94042 [==============================] - 20s 208us/step - loss: 0.7569 - acc: 0.9243 - val_loss: 1.1064 - val_acc: 0.9472\n",
      "Epoch 18/125\n",
      "94042/94042 [==============================] - 20s 208us/step - loss: 0.7665 - acc: 0.9208 - val_loss: 1.1035 - val_acc: 0.9396\n",
      "Epoch 19/125\n",
      "94042/94042 [==============================] - 20s 209us/step - loss: 0.7408 - acc: 0.9249 - val_loss: 1.1619 - val_acc: 0.9603\n",
      "Epoch 20/125\n",
      "94042/94042 [==============================] - 20s 208us/step - loss: 0.7418 - acc: 0.9252 - val_loss: 1.1985 - val_acc: 0.9455\n",
      "Epoch 21/125\n",
      "94042/94042 [==============================] - 20s 208us/step - loss: 0.7238 - acc: 0.9285 - val_loss: 1.1156 - val_acc: 0.9432\n",
      "Epoch 22/125\n",
      "94042/94042 [==============================] - 20s 208us/step - loss: 0.7339 - acc: 0.9225 - val_loss: 1.1832 - val_acc: 0.9398\n",
      "Epoch 23/125\n",
      "94042/94042 [==============================] - 20s 208us/step - loss: 0.7032 - acc: 0.9299 - val_loss: 1.1982 - val_acc: 0.9535\n",
      "Epoch 24/125\n",
      "94042/94042 [==============================] - 19s 207us/step - loss: 0.7244 - acc: 0.9266 - val_loss: 1.2145 - val_acc: 0.9593\n",
      "Epoch 25/125\n",
      "94042/94042 [==============================] - 20s 209us/step - loss: 0.7074 - acc: 0.9231 - val_loss: 1.1468 - val_acc: 0.9433\n",
      "Epoch 26/125\n",
      "94042/94042 [==============================] - 20s 208us/step - loss: 0.7030 - acc: 0.9222 - val_loss: 1.1212 - val_acc: 0.9417\n",
      "Epoch 27/125\n",
      "94042/94042 [==============================] - 20s 209us/step - loss: 0.6842 - acc: 0.9302 - val_loss: 1.1426 - val_acc: 0.9497\n",
      "Epoch 28/125\n",
      "94042/94042 [==============================] - 20s 209us/step - loss: 0.7043 - acc: 0.9288 - val_loss: 1.0718 - val_acc: 0.9546\n",
      "Epoch 29/125\n",
      "94042/94042 [==============================] - 19s 206us/step - loss: 0.6843 - acc: 0.9285 - val_loss: 1.1077 - val_acc: 0.9470\n",
      "Epoch 30/125\n",
      "94042/94042 [==============================] - 20s 209us/step - loss: 0.6637 - acc: 0.9284 - val_loss: 1.1759 - val_acc: 0.9304\n",
      "Epoch 31/125\n",
      "94042/94042 [==============================] - 19s 205us/step - loss: 0.6631 - acc: 0.9267 - val_loss: 1.2414 - val_acc: 0.9548\n",
      "Epoch 32/125\n",
      "94042/94042 [==============================] - 19s 206us/step - loss: 0.6525 - acc: 0.9303 - val_loss: 1.3850 - val_acc: 0.9607\n",
      "Epoch 33/125\n",
      "94042/94042 [==============================] - 19s 205us/step - loss: 0.6636 - acc: 0.9318 - val_loss: 1.1391 - val_acc: 0.9451\n",
      "Epoch 34/125\n",
      "94042/94042 [==============================] - 19s 205us/step - loss: 0.6713 - acc: 0.9323 - val_loss: 1.0321 - val_acc: 0.9496\n",
      "Epoch 35/125\n",
      "94042/94042 [==============================] - 19s 207us/step - loss: 0.6516 - acc: 0.9320 - val_loss: 1.1225 - val_acc: 0.9459\n",
      "Epoch 36/125\n",
      "94042/94042 [==============================] - 19s 207us/step - loss: 0.6489 - acc: 0.9300 - val_loss: 1.2615 - val_acc: 0.9500\n",
      "Epoch 37/125\n",
      "94042/94042 [==============================] - 19s 206us/step - loss: 0.6523 - acc: 0.9289 - val_loss: 1.0822 - val_acc: 0.9467\n",
      "Epoch 38/125\n",
      "94042/94042 [==============================] - 19s 205us/step - loss: 0.6447 - acc: 0.9296 - val_loss: 1.2483 - val_acc: 0.9633\n",
      "Epoch 39/125\n",
      "94042/94042 [==============================] - 19s 206us/step - loss: 0.6358 - acc: 0.9318 - val_loss: 1.1233 - val_acc: 0.9577\n",
      "Epoch 40/125\n",
      "94042/94042 [==============================] - 19s 205us/step - loss: 0.6245 - acc: 0.9353 - val_loss: 1.1196 - val_acc: 0.9512\n",
      "Epoch 41/125\n",
      "94042/94042 [==============================] - 20s 215us/step - loss: 0.6466 - acc: 0.9338 - val_loss: 1.0743 - val_acc: 0.9451\n",
      "Epoch 42/125\n",
      "94042/94042 [==============================] - 24s 257us/step - loss: 0.6157 - acc: 0.9339 - val_loss: 1.2682 - val_acc: 0.9499\n",
      "Epoch 43/125\n",
      "94042/94042 [==============================] - 20s 218us/step - loss: 0.6389 - acc: 0.9276 - val_loss: 1.0946 - val_acc: 0.9466\n",
      "Epoch 44/125\n",
      "94042/94042 [==============================] - 19s 207us/step - loss: 0.6164 - acc: 0.9285 - val_loss: 1.2836 - val_acc: 0.9569\n",
      "Epoch 45/125\n",
      "94042/94042 [==============================] - 19s 207us/step - loss: 0.6173 - acc: 0.9295 - val_loss: 1.1188 - val_acc: 0.9536\n",
      "Epoch 46/125\n",
      "94042/94042 [==============================] - 19s 205us/step - loss: 0.6113 - acc: 0.9311 - val_loss: 1.1780 - val_acc: 0.9524\n",
      "Epoch 47/125\n",
      "94042/94042 [==============================] - 19s 206us/step - loss: 0.6113 - acc: 0.9334 - val_loss: 1.1572 - val_acc: 0.9442\n",
      "Epoch 48/125\n",
      "94042/94042 [==============================] - 19s 205us/step - loss: 0.6239 - acc: 0.9323 - val_loss: 1.4322 - val_acc: 0.9577\n",
      "Epoch 49/125\n",
      "94042/94042 [==============================] - 19s 206us/step - loss: 0.6006 - acc: 0.9340 - val_loss: 1.3154 - val_acc: 0.9503\n",
      "Epoch 50/125\n",
      "94042/94042 [==============================] - 19s 205us/step - loss: 0.6355 - acc: 0.9278 - val_loss: 1.1888 - val_acc: 0.9485\n",
      "Epoch 51/125\n",
      "94042/94042 [==============================] - 20s 207us/step - loss: 0.5936 - acc: 0.9311 - val_loss: 1.2075 - val_acc: 0.9469\n",
      "Epoch 52/125\n",
      "94042/94042 [==============================] - 19s 205us/step - loss: 0.6058 - acc: 0.9327 - val_loss: 1.2278 - val_acc: 0.9561\n"
     ]
    },
    {
     "name": "stdout",
     "output_type": "stream",
     "text": [
      "Epoch 53/125\n",
      "94042/94042 [==============================] - 19s 206us/step - loss: 0.6147 - acc: 0.9275 - val_loss: 1.0895 - val_acc: 0.9406\n",
      "Epoch 54/125\n",
      "94042/94042 [==============================] - 19s 205us/step - loss: 0.5929 - acc: 0.9333 - val_loss: 1.1484 - val_acc: 0.9443\n",
      "Epoch 55/125\n",
      "94042/94042 [==============================] - 19s 205us/step - loss: 0.6060 - acc: 0.9327 - val_loss: 1.0330 - val_acc: 0.9404\n",
      "Epoch 56/125\n",
      "94042/94042 [==============================] - 19s 205us/step - loss: 0.5865 - acc: 0.9334 - val_loss: 1.0385 - val_acc: 0.9519\n",
      "Epoch 57/125\n",
      "94042/94042 [==============================] - 19s 205us/step - loss: 0.6100 - acc: 0.9307 - val_loss: 1.0890 - val_acc: 0.9550\n",
      "Epoch 58/125\n",
      "94042/94042 [==============================] - 19s 199us/step - loss: 0.5793 - acc: 0.9346 - val_loss: 1.1779 - val_acc: 0.9548\n",
      "Epoch 59/125\n",
      "94042/94042 [==============================] - 21s 220us/step - loss: 0.5811 - acc: 0.9360 - val_loss: 1.3160 - val_acc: 0.9557\n",
      "Epoch 60/125\n",
      "94042/94042 [==============================] - 20s 208us/step - loss: 0.5638 - acc: 0.9316 - val_loss: 1.3597 - val_acc: 0.9592\n",
      "Epoch 61/125\n",
      "94042/94042 [==============================] - 20s 208us/step - loss: 0.5868 - acc: 0.9341 - val_loss: 1.3689 - val_acc: 0.9509\n",
      "Epoch 62/125\n",
      "94042/94042 [==============================] - 20s 208us/step - loss: 0.5930 - acc: 0.9336 - val_loss: 1.1902 - val_acc: 0.9542\n",
      "Epoch 63/125\n",
      "94042/94042 [==============================] - 19s 206us/step - loss: 0.5608 - acc: 0.9320 - val_loss: 1.1081 - val_acc: 0.9514\n",
      "Epoch 64/125\n",
      "94042/94042 [==============================] - 19s 206us/step - loss: 0.5715 - acc: 0.9282 - val_loss: 1.0946 - val_acc: 0.9330\n",
      "Epoch 65/125\n",
      "94042/94042 [==============================] - 19s 206us/step - loss: 0.5766 - acc: 0.9340 - val_loss: 1.0018 - val_acc: 0.9472\n",
      "Epoch 66/125\n",
      "94042/94042 [==============================] - 19s 204us/step - loss: 0.5890 - acc: 0.9287 - val_loss: 1.0116 - val_acc: 0.9448\n",
      "Epoch 67/125\n",
      "94042/94042 [==============================] - 19s 205us/step - loss: 0.5665 - acc: 0.9303 - val_loss: 1.1714 - val_acc: 0.9412\n",
      "Epoch 68/125\n",
      "94042/94042 [==============================] - 19s 206us/step - loss: 0.5656 - acc: 0.9295 - val_loss: 1.1825 - val_acc: 0.9487\n",
      "Epoch 69/125\n",
      "94042/94042 [==============================] - 19s 205us/step - loss: 0.5673 - acc: 0.9324 - val_loss: 1.2050 - val_acc: 0.9511\n",
      "Epoch 70/125\n",
      "94042/94042 [==============================] - 19s 207us/step - loss: 0.5687 - acc: 0.9345 - val_loss: 1.1340 - val_acc: 0.9559\n",
      "Epoch 71/125\n",
      "94042/94042 [==============================] - 19s 206us/step - loss: 0.5572 - acc: 0.9324 - val_loss: 1.1353 - val_acc: 0.9409\n",
      "Epoch 72/125\n",
      "94042/94042 [==============================] - 19s 203us/step - loss: 0.5553 - acc: 0.9342 - val_loss: 1.3659 - val_acc: 0.9485\n",
      "Epoch 73/125\n",
      "94042/94042 [==============================] - 19s 197us/step - loss: 0.5442 - acc: 0.9366 - val_loss: 1.1680 - val_acc: 0.9406\n",
      "Epoch 74/125\n",
      "94042/94042 [==============================] - 19s 197us/step - loss: 0.5506 - acc: 0.9295 - val_loss: 1.3372 - val_acc: 0.9512\n",
      "Epoch 75/125\n",
      "94042/94042 [==============================] - 19s 200us/step - loss: 0.5693 - acc: 0.9323 - val_loss: 1.4187 - val_acc: 0.9521\n",
      "Epoch 76/125\n",
      "94042/94042 [==============================] - 19s 206us/step - loss: 0.5335 - acc: 0.9342 - val_loss: 1.1191 - val_acc: 0.9475\n",
      "Epoch 77/125\n",
      "94042/94042 [==============================] - 19s 204us/step - loss: 0.5533 - acc: 0.9304 - val_loss: 1.3002 - val_acc: 0.9523\n",
      "Epoch 78/125\n",
      "94042/94042 [==============================] - 19s 201us/step - loss: 0.5660 - acc: 0.9277 - val_loss: 1.3565 - val_acc: 0.9558\n",
      "Epoch 79/125\n",
      "94042/94042 [==============================] - 19s 204us/step - loss: 0.5434 - acc: 0.9312 - val_loss: 1.2764 - val_acc: 0.9489\n",
      "Epoch 80/125\n",
      "94042/94042 [==============================] - 20s 210us/step - loss: 0.5615 - acc: 0.9306 - val_loss: 1.3653 - val_acc: 0.9532\n",
      "Epoch 81/125\n",
      "94042/94042 [==============================] - 19s 205us/step - loss: 0.5476 - acc: 0.9342 - val_loss: 1.0615 - val_acc: 0.9465\n",
      "Epoch 82/125\n",
      "94042/94042 [==============================] - 20s 208us/step - loss: 0.5456 - acc: 0.9368 - val_loss: 1.1241 - val_acc: 0.9322\n",
      "Epoch 83/125\n",
      "94042/94042 [==============================] - 19s 202us/step - loss: 0.5525 - acc: 0.9334 - val_loss: 1.1582 - val_acc: 0.9498\n",
      "Epoch 84/125\n",
      "94042/94042 [==============================] - 19s 202us/step - loss: 0.5439 - acc: 0.9322 - val_loss: 1.3962 - val_acc: 0.9519\n",
      "Epoch 85/125\n",
      "94042/94042 [==============================] - 19s 202us/step - loss: 0.5434 - acc: 0.9327 - val_loss: 1.1219 - val_acc: 0.9335\n",
      "Epoch 86/125\n",
      "94042/94042 [==============================] - 19s 201us/step - loss: 0.5561 - acc: 0.9321 - val_loss: 1.0033 - val_acc: 0.9434\n",
      "Epoch 87/125\n",
      "94042/94042 [==============================] - 19s 201us/step - loss: 0.5486 - acc: 0.9291 - val_loss: 1.2140 - val_acc: 0.9501\n",
      "Epoch 88/125\n",
      "94042/94042 [==============================] - 19s 204us/step - loss: 0.5368 - acc: 0.9318 - val_loss: 1.0620 - val_acc: 0.9372\n",
      "Epoch 89/125\n",
      "94042/94042 [==============================] - 19s 203us/step - loss: 0.5367 - acc: 0.9346 - val_loss: 1.2504 - val_acc: 0.9450\n",
      "Epoch 90/125\n",
      "94042/94042 [==============================] - 19s 201us/step - loss: 0.5461 - acc: 0.9305 - val_loss: 1.1908 - val_acc: 0.9396\n",
      "Epoch 91/125\n",
      "94042/94042 [==============================] - 19s 201us/step - loss: 0.5319 - acc: 0.9337 - val_loss: 1.1957 - val_acc: 0.9511\n",
      "Epoch 92/125\n",
      "94042/94042 [==============================] - 19s 203us/step - loss: 0.5360 - acc: 0.9335 - val_loss: 1.5174 - val_acc: 0.9460\n",
      "Epoch 93/125\n",
      "94042/94042 [==============================] - 19s 201us/step - loss: 0.5250 - acc: 0.9361 - val_loss: 1.0581 - val_acc: 0.9344\n",
      "Epoch 94/125\n",
      "94042/94042 [==============================] - 19s 202us/step - loss: 0.5298 - acc: 0.9290 - val_loss: 1.4407 - val_acc: 0.9558\n",
      "Epoch 95/125\n",
      "94042/94042 [==============================] - 19s 203us/step - loss: 0.5235 - acc: 0.9351 - val_loss: 1.3573 - val_acc: 0.9528\n",
      "Epoch 96/125\n",
      "94042/94042 [==============================] - 19s 203us/step - loss: 0.5219 - acc: 0.9341 - val_loss: 1.2276 - val_acc: 0.9477\n",
      "Epoch 97/125\n",
      "94042/94042 [==============================] - 19s 201us/step - loss: 0.5283 - acc: 0.9355 - val_loss: 1.2379 - val_acc: 0.9504\n",
      "Epoch 98/125\n",
      "94042/94042 [==============================] - 19s 202us/step - loss: 0.5135 - acc: 0.9360 - val_loss: 1.2169 - val_acc: 0.9506\n",
      "Epoch 99/125\n",
      "94042/94042 [==============================] - 19s 203us/step - loss: 0.5256 - acc: 0.9331 - val_loss: 1.1457 - val_acc: 0.9544\n",
      "Epoch 100/125\n",
      "94042/94042 [==============================] - 19s 203us/step - loss: 0.5174 - acc: 0.9379 - val_loss: 1.3817 - val_acc: 0.9579\n",
      "Epoch 101/125\n",
      "94042/94042 [==============================] - 19s 202us/step - loss: 0.5340 - acc: 0.9352 - val_loss: 1.1975 - val_acc: 0.9432\n",
      "Epoch 102/125\n",
      "94042/94042 [==============================] - 19s 201us/step - loss: 0.5145 - acc: 0.9339 - val_loss: 1.3197 - val_acc: 0.9535\n",
      "Epoch 103/125\n",
      "94042/94042 [==============================] - 19s 201us/step - loss: 0.5210 - acc: 0.9351 - val_loss: 1.2144 - val_acc: 0.9494\n",
      "Epoch 104/125\n",
      "94042/94042 [==============================] - 18s 194us/step - loss: 0.5238 - acc: 0.9315 - val_loss: 1.3416 - val_acc: 0.9556\n",
      "Epoch 105/125\n",
      "94042/94042 [==============================] - 19s 201us/step - loss: 0.5198 - acc: 0.9334 - val_loss: 1.1839 - val_acc: 0.9522\n",
      "Epoch 106/125\n",
      "94042/94042 [==============================] - 19s 202us/step - loss: 0.5223 - acc: 0.9341 - val_loss: 1.4740 - val_acc: 0.9640\n",
      "Epoch 107/125\n",
      "94042/94042 [==============================] - 19s 201us/step - loss: 0.5045 - acc: 0.9363 - val_loss: 1.1470 - val_acc: 0.9538\n",
      "Epoch 108/125\n",
      "94042/94042 [==============================] - 19s 199us/step - loss: 0.5163 - acc: 0.9350 - val_loss: 1.0902 - val_acc: 0.9492\n",
      "Epoch 109/125\n",
      "94042/94042 [==============================] - 19s 201us/step - loss: 0.4979 - acc: 0.9337 - val_loss: 1.1610 - val_acc: 0.9535\n",
      "Epoch 110/125\n",
      "94042/94042 [==============================] - 19s 201us/step - loss: 0.5088 - acc: 0.9327 - val_loss: 1.2907 - val_acc: 0.9548\n",
      "Epoch 111/125\n"
     ]
    },
    {
     "name": "stdout",
     "output_type": "stream",
     "text": [
      "94042/94042 [==============================] - 19s 202us/step - loss: 0.5287 - acc: 0.9338 - val_loss: 1.2194 - val_acc: 0.9541\n",
      "Epoch 112/125\n",
      "94042/94042 [==============================] - 19s 203us/step - loss: 0.4979 - acc: 0.9348 - val_loss: 1.1246 - val_acc: 0.9524\n",
      "Epoch 113/125\n",
      "94042/94042 [==============================] - 19s 203us/step - loss: 0.4789 - acc: 0.9362 - val_loss: 1.2822 - val_acc: 0.9560\n",
      "Epoch 114/125\n",
      "94042/94042 [==============================] - 19s 206us/step - loss: 0.5252 - acc: 0.9301 - val_loss: 1.2405 - val_acc: 0.9556\n",
      "Epoch 115/125\n",
      "94042/94042 [==============================] - 20s 209us/step - loss: 0.5091 - acc: 0.9380 - val_loss: 1.4246 - val_acc: 0.9604\n",
      "Epoch 116/125\n",
      "94042/94042 [==============================] - 19s 205us/step - loss: 0.5245 - acc: 0.9366 - val_loss: 1.2113 - val_acc: 0.9532\n",
      "Epoch 117/125\n",
      "94042/94042 [==============================] - 19s 206us/step - loss: 0.5048 - acc: 0.9371 - val_loss: 1.2659 - val_acc: 0.9525\n",
      "Epoch 118/125\n",
      "94042/94042 [==============================] - 19s 205us/step - loss: 0.5051 - acc: 0.9367 - val_loss: 1.0161 - val_acc: 0.9498\n",
      "Epoch 119/125\n",
      "94042/94042 [==============================] - 19s 205us/step - loss: 0.4903 - acc: 0.9348 - val_loss: 1.1586 - val_acc: 0.9570\n",
      "Epoch 120/125\n",
      "94042/94042 [==============================] - 19s 205us/step - loss: 0.5143 - acc: 0.9361 - val_loss: 1.1475 - val_acc: 0.9530\n",
      "Epoch 121/125\n",
      "94042/94042 [==============================] - 19s 203us/step - loss: 0.5157 - acc: 0.9328 - val_loss: 1.0710 - val_acc: 0.9464\n",
      "Epoch 122/125\n",
      "94042/94042 [==============================] - 19s 202us/step - loss: 0.4809 - acc: 0.9376 - val_loss: 1.2922 - val_acc: 0.9552\n",
      "Epoch 123/125\n",
      "94042/94042 [==============================] - 19s 202us/step - loss: 0.4991 - acc: 0.9369 - val_loss: 1.2795 - val_acc: 0.9540\n",
      "Epoch 124/125\n",
      "94042/94042 [==============================] - 19s 202us/step - loss: 0.4966 - acc: 0.9347 - val_loss: 1.4251 - val_acc: 0.9499\n",
      "Epoch 125/125\n",
      "94042/94042 [==============================] - 19s 202us/step - loss: 0.5052 - acc: 0.9369 - val_loss: 1.4616 - val_acc: 0.9531\n"
     ]
    }
   ],
   "source": [
    "results = trainRNNModel(dataTrWinValues50Hz[:,:,:3], dataTrWinLabel, dataTestWinValues50Hz[:,:,:3], dataTestWinLabel, epochs = 125, lr=0.001, w = 64, stride = 32, batch_size = 32, rnn_type = 'lstm', two_rnn_layers=False, drop_coeff_rnn=0.35, drop_coeff_dense=0.0, first_dense=False)"
   ]
  },
  {
   "cell_type": "code",
   "execution_count": null,
   "metadata": {},
   "outputs": [],
   "source": []
  },
  {
   "cell_type": "code",
   "execution_count": 31,
   "metadata": {
    "scrolled": true
   },
   "outputs": [
    {
     "name": "stdout",
     "output_type": "stream",
     "text": [
      "[1, 256, 128, 'lstm', 0.0015, 32, 0.2, 0.35, False, False]\n",
      "[2, 256, 128, 'lstm', 0.0015, 64, 0.2, 0.35, False, False]\n",
      "[3, 256, 128, 'lstm', 0.001, 32, 0.2, 0.35, False, False]\n",
      "[4, 256, 128, 'lstm', 0.001, 64, 0.2, 0.35, False, False]\n",
      "[5, 256, 128, 'lstm', 0.0005, 32, 0.2, 0.35, False, False]\n",
      "[6, 256, 128, 'lstm', 0.0005, 64, 0.2, 0.35, False, False]\n",
      "[7, 256, 128, 'gru', 0.0015, 32, 0.2, 0.35, False, False]\n",
      "[8, 256, 128, 'gru', 0.0015, 64, 0.2, 0.35, False, False]\n",
      "[9, 256, 128, 'gru', 0.001, 32, 0.2, 0.35, False, False]\n",
      "[10, 256, 128, 'gru', 0.001, 64, 0.2, 0.35, False, False]\n",
      "[11, 256, 128, 'gru', 0.0005, 32, 0.2, 0.35, False, False]\n",
      "[12, 256, 128, 'gru', 0.0005, 64, 0.2, 0.35, False, False]\n",
      "\n",
      "=======================\n",
      "Model no. 1\n",
      "\n",
      "=======================\n",
      "Model no. 2\n",
      "\n",
      "=======================\n",
      "Model no. 3\n",
      "\n",
      "=======================\n",
      "Model no. 4\n",
      "\n",
      "=======================\n",
      "Model no. 5\n",
      "\n",
      "=======================\n",
      "Model no. 6\n",
      "\n",
      "=======================\n",
      "Model no. 7\n",
      "\n",
      "=======================\n",
      "Model no. 8\n",
      "_________________________________________________________________\n",
      "Layer (type)                 Output Shape              Param #   \n",
      "=================================================================\n",
      "batch_normalization_12 (Batc (None, 256, 3)            12        \n",
      "_________________________________________________________________\n",
      "dropout_23 (Dropout)         (None, 256, 3)            0         \n",
      "_________________________________________________________________\n",
      "cu_dnngru_4 (CuDNNGRU)       (None, 32)                3552      \n",
      "_________________________________________________________________\n",
      "dropout_24 (Dropout)         (None, 32)                0         \n",
      "_________________________________________________________________\n",
      "dense_12 (Dense)             (None, 3)                 99        \n",
      "=================================================================\n",
      "Total params: 3,663\n",
      "Trainable params: 3,657\n",
      "Non-trainable params: 6\n",
      "_________________________________________________________________\n",
      "Train on 94042 samples, validate on 22946 samples\n",
      "Epoch 1/100\n",
      "94042/94042 [==============================] - 24s 254us/step - loss: 2.6073 - acc: 0.4770 - val_loss: 2.4644 - val_acc: 0.7004\n",
      "Epoch 2/100\n",
      "94042/94042 [==============================] - 23s 240us/step - loss: 2.2101 - acc: 0.5943 - val_loss: 1.9743 - val_acc: 0.6176\n",
      "Epoch 3/100\n",
      "94042/94042 [==============================] - 23s 243us/step - loss: 1.8019 - acc: 0.6496 - val_loss: 1.4772 - val_acc: 0.7774\n",
      "Epoch 4/100\n",
      "94042/94042 [==============================] - 23s 247us/step - loss: 1.3192 - acc: 0.7734 - val_loss: 1.3434 - val_acc: 0.9033\n",
      "Epoch 5/100\n",
      "94042/94042 [==============================] - 23s 245us/step - loss: 1.1406 - acc: 0.8384 - val_loss: 1.3093 - val_acc: 0.8480\n",
      "Epoch 6/100\n",
      "94042/94042 [==============================] - 23s 250us/step - loss: 1.0733 - acc: 0.8669 - val_loss: 1.1960 - val_acc: 0.9211\n",
      "Epoch 7/100\n",
      "94042/94042 [==============================] - 23s 247us/step - loss: 0.9929 - acc: 0.8792 - val_loss: 1.1838 - val_acc: 0.9452\n",
      "Epoch 8/100\n",
      "94042/94042 [==============================] - 23s 241us/step - loss: 0.9198 - acc: 0.8939 - val_loss: 1.4453 - val_acc: 0.9433\n",
      "Epoch 9/100\n",
      "94042/94042 [==============================] - 23s 242us/step - loss: 0.8998 - acc: 0.9043 - val_loss: 1.1936 - val_acc: 0.9533\n",
      "Epoch 10/100\n",
      "94042/94042 [==============================] - 23s 244us/step - loss: 0.8713 - acc: 0.9140 - val_loss: 1.0683 - val_acc: 0.9330\n",
      "Epoch 11/100\n",
      "94042/94042 [==============================] - 23s 247us/step - loss: 0.8463 - acc: 0.9070 - val_loss: 1.0453 - val_acc: 0.9491\n",
      "Epoch 12/100\n",
      "94042/94042 [==============================] - 24s 253us/step - loss: 0.7978 - acc: 0.9152 - val_loss: 1.2763 - val_acc: 0.8787\n",
      "Epoch 13/100\n",
      "94042/94042 [==============================] - 24s 253us/step - loss: 0.8104 - acc: 0.9149 - val_loss: 1.0702 - val_acc: 0.9511\n",
      "Epoch 14/100\n",
      "94042/94042 [==============================] - 24s 254us/step - loss: 0.8127 - acc: 0.9154 - val_loss: 0.9465 - val_acc: 0.9295\n",
      "Epoch 15/100\n",
      "94042/94042 [==============================] - 24s 252us/step - loss: 0.7718 - acc: 0.9207 - val_loss: 1.1481 - val_acc: 0.9416\n",
      "Epoch 16/100\n",
      "94042/94042 [==============================] - 24s 255us/step - loss: 0.7621 - acc: 0.9208 - val_loss: 0.9300 - val_acc: 0.9433\n",
      "Epoch 17/100\n",
      "94042/94042 [==============================] - 24s 257us/step - loss: 0.7839 - acc: 0.9213 - val_loss: 1.0098 - val_acc: 0.9170\n",
      "Epoch 18/100\n",
      "94042/94042 [==============================] - 24s 256us/step - loss: 0.7305 - acc: 0.9204 - val_loss: 1.0170 - val_acc: 0.9503\n",
      "Epoch 19/100\n",
      "94042/94042 [==============================] - 24s 252us/step - loss: 0.7339 - acc: 0.9261 - val_loss: 1.2626 - val_acc: 0.8675\n",
      "Epoch 20/100\n",
      "94042/94042 [==============================] - 24s 251us/step - loss: 0.7411 - acc: 0.9213 - val_loss: 0.9343 - val_acc: 0.9493\n",
      "Epoch 21/100\n",
      "94042/94042 [==============================] - 24s 251us/step - loss: 0.7200 - acc: 0.9291 - val_loss: 0.9681 - val_acc: 0.9290\n",
      "Epoch 22/100\n",
      "94042/94042 [==============================] - 22s 239us/step - loss: 0.7409 - acc: 0.9202 - val_loss: 1.0513 - val_acc: 0.9372\n",
      "Epoch 23/100\n",
      "94042/94042 [==============================] - 22s 232us/step - loss: 0.7232 - acc: 0.9221 - val_loss: 1.1829 - val_acc: 0.9174\n",
      "Epoch 24/100\n",
      "94042/94042 [==============================] - 22s 233us/step - loss: 0.7018 - acc: 0.9222 - val_loss: 0.9222 - val_acc: 0.9324\n",
      "Epoch 25/100\n",
      "94042/94042 [==============================] - 22s 234us/step - loss: 0.6958 - acc: 0.9208 - val_loss: 0.9887 - val_acc: 0.9432\n",
      "Epoch 26/100\n",
      "94042/94042 [==============================] - 22s 232us/step - loss: 0.6778 - acc: 0.9228 - val_loss: 0.9600 - val_acc: 0.9232\n",
      "Epoch 27/100\n",
      "94042/94042 [==============================] - 22s 232us/step - loss: 0.6930 - acc: 0.9233 - val_loss: 0.9680 - val_acc: 0.9421\n",
      "Epoch 28/100\n",
      "94042/94042 [==============================] - 22s 232us/step - loss: 0.6597 - acc: 0.9258 - val_loss: 0.9647 - val_acc: 0.9423\n",
      "Epoch 29/100\n",
      "94042/94042 [==============================] - 22s 232us/step - loss: 0.6569 - acc: 0.9275 - val_loss: 0.8833 - val_acc: 0.9318\n",
      "Epoch 30/100\n",
      "94042/94042 [==============================] - 22s 233us/step - loss: 0.6639 - acc: 0.9241 - val_loss: 1.0946 - val_acc: 0.9538\n",
      "Epoch 31/100\n",
      "94042/94042 [==============================] - 22s 233us/step - loss: 0.6778 - acc: 0.9268 - val_loss: 1.0673 - val_acc: 0.9424\n",
      "Epoch 32/100\n",
      "94042/94042 [==============================] - 22s 234us/step - loss: 0.6557 - acc: 0.9294 - val_loss: 1.0727 - val_acc: 0.9480\n",
      "Epoch 33/100\n",
      "94042/94042 [==============================] - 22s 232us/step - loss: 0.6379 - acc: 0.9259 - val_loss: 0.9918 - val_acc: 0.9492\n",
      "Epoch 34/100\n",
      "94042/94042 [==============================] - 22s 233us/step - loss: 0.6478 - acc: 0.9246 - val_loss: 0.8718 - val_acc: 0.9179\n",
      "Epoch 35/100\n",
      "94042/94042 [==============================] - 22s 232us/step - loss: 0.6477 - acc: 0.9197 - val_loss: 0.8686 - val_acc: 0.9111\n",
      "Epoch 36/100\n",
      "94042/94042 [==============================] - 22s 232us/step - loss: 0.6158 - acc: 0.9270 - val_loss: 0.8798 - val_acc: 0.9230\n",
      "Epoch 37/100\n",
      "94042/94042 [==============================] - 22s 233us/step - loss: 0.6088 - acc: 0.9296 - val_loss: 0.9779 - val_acc: 0.9114\n",
      "Epoch 38/100\n",
      "94042/94042 [==============================] - 22s 232us/step - loss: 0.6260 - acc: 0.9289 - val_loss: 0.8157 - val_acc: 0.9367\n",
      "Epoch 39/100\n",
      "94042/94042 [==============================] - 22s 233us/step - loss: 0.6135 - acc: 0.9278 - val_loss: 1.0790 - val_acc: 0.9480\n",
      "Epoch 40/100\n",
      "94042/94042 [==============================] - 22s 234us/step - loss: 0.6332 - acc: 0.9198 - val_loss: 1.0050 - val_acc: 0.9526\n",
      "Epoch 41/100\n",
      "94042/94042 [==============================] - 22s 232us/step - loss: 0.6190 - acc: 0.9315 - val_loss: 0.9586 - val_acc: 0.9354\n",
      "Epoch 42/100\n",
      "94042/94042 [==============================] - 22s 233us/step - loss: 0.6169 - acc: 0.9251 - val_loss: 0.8966 - val_acc: 0.9113\n",
      "Epoch 43/100\n",
      "94042/94042 [==============================] - 22s 233us/step - loss: 0.6155 - acc: 0.9224 - val_loss: 0.9656 - val_acc: 0.9074\n",
      "Epoch 44/100\n",
      "94042/94042 [==============================] - 22s 233us/step - loss: 0.6047 - acc: 0.9253 - val_loss: 0.9963 - val_acc: 0.9464\n"
     ]
    },
    {
     "name": "stdout",
     "output_type": "stream",
     "text": [
      "Epoch 45/100\n",
      "94042/94042 [==============================] - 22s 232us/step - loss: 0.5963 - acc: 0.9327 - val_loss: 0.9684 - val_acc: 0.9454\n",
      "Epoch 46/100\n",
      "94042/94042 [==============================] - 22s 231us/step - loss: 0.5822 - acc: 0.9318 - val_loss: 0.9477 - val_acc: 0.9291\n",
      "Epoch 47/100\n",
      "94042/94042 [==============================] - 22s 232us/step - loss: 0.6082 - acc: 0.9282 - val_loss: 0.9012 - val_acc: 0.9199\n",
      "Epoch 48/100\n",
      "94042/94042 [==============================] - 22s 231us/step - loss: 0.5917 - acc: 0.9290 - val_loss: 1.0628 - val_acc: 0.9085\n",
      "Epoch 49/100\n",
      "94042/94042 [==============================] - 22s 232us/step - loss: 0.6209 - acc: 0.9315 - val_loss: 0.9963 - val_acc: 0.8430\n",
      "Epoch 50/100\n",
      "94042/94042 [==============================] - 22s 231us/step - loss: 0.5902 - acc: 0.9271 - val_loss: 1.0151 - val_acc: 0.9312\n",
      "Epoch 51/100\n",
      "94042/94042 [==============================] - 22s 233us/step - loss: 0.5657 - acc: 0.9299 - val_loss: 1.0185 - val_acc: 0.9282\n",
      "Epoch 52/100\n",
      "94042/94042 [==============================] - 22s 233us/step - loss: 0.5758 - acc: 0.9315 - val_loss: 0.9543 - val_acc: 0.9214\n",
      "Epoch 53/100\n",
      "94042/94042 [==============================] - 22s 232us/step - loss: 0.5704 - acc: 0.9282 - val_loss: 0.9716 - val_acc: 0.9382\n",
      "Epoch 54/100\n",
      "94042/94042 [==============================] - 22s 233us/step - loss: 0.5330 - acc: 0.9302 - val_loss: 1.1032 - val_acc: 0.9412\n",
      "Epoch 55/100\n",
      "94042/94042 [==============================] - 22s 232us/step - loss: 0.5754 - acc: 0.9254 - val_loss: 0.9483 - val_acc: 0.9322\n",
      "Epoch 56/100\n",
      "94042/94042 [==============================] - 22s 233us/step - loss: 0.5518 - acc: 0.9293 - val_loss: 1.0395 - val_acc: 0.9389\n",
      "Epoch 57/100\n",
      "94042/94042 [==============================] - 22s 233us/step - loss: 0.5511 - acc: 0.9312 - val_loss: 0.9805 - val_acc: 0.9406\n",
      "Epoch 58/100\n",
      "94042/94042 [==============================] - 22s 232us/step - loss: 0.5563 - acc: 0.9341 - val_loss: 1.0117 - val_acc: 0.9224\n",
      "Epoch 59/100\n",
      "94042/94042 [==============================] - 22s 233us/step - loss: 0.5703 - acc: 0.9295 - val_loss: 0.8834 - val_acc: 0.9327\n",
      "Epoch 60/100\n",
      "94042/94042 [==============================] - 22s 232us/step - loss: 0.5677 - acc: 0.9316 - val_loss: 1.0142 - val_acc: 0.9397\n",
      "Epoch 61/100\n",
      "94042/94042 [==============================] - 22s 233us/step - loss: 0.5433 - acc: 0.9289 - val_loss: 0.9642 - val_acc: 0.9243\n",
      "Epoch 62/100\n",
      "94042/94042 [==============================] - 22s 232us/step - loss: 0.5440 - acc: 0.9323 - val_loss: 1.0007 - val_acc: 0.9439\n",
      "Epoch 63/100\n",
      "94042/94042 [==============================] - 22s 233us/step - loss: 0.5664 - acc: 0.9256 - val_loss: 0.8954 - val_acc: 0.9348\n",
      "Epoch 64/100\n",
      "94042/94042 [==============================] - 22s 232us/step - loss: 0.5277 - acc: 0.9338 - val_loss: 0.8709 - val_acc: 0.9253\n",
      "Epoch 65/100\n",
      "94042/94042 [==============================] - 22s 233us/step - loss: 0.5378 - acc: 0.9352 - val_loss: 1.0381 - val_acc: 0.9140\n",
      "Epoch 66/100\n",
      "94042/94042 [==============================] - 22s 232us/step - loss: 0.5292 - acc: 0.9337 - val_loss: 0.9844 - val_acc: 0.9419\n",
      "Epoch 67/100\n",
      "94042/94042 [==============================] - 22s 231us/step - loss: 0.5389 - acc: 0.9344 - val_loss: 1.0245 - val_acc: 0.9294\n",
      "Epoch 68/100\n",
      "94042/94042 [==============================] - 22s 232us/step - loss: 0.5492 - acc: 0.9281 - val_loss: 1.1469 - val_acc: 0.9424\n",
      "Epoch 69/100\n",
      "94042/94042 [==============================] - 22s 232us/step - loss: 0.5170 - acc: 0.9357 - val_loss: 1.1449 - val_acc: 0.9366\n",
      "Epoch 70/100\n",
      "94042/94042 [==============================] - 22s 232us/step - loss: 0.5395 - acc: 0.9277 - val_loss: 0.9353 - val_acc: 0.9321\n",
      "Epoch 71/100\n",
      "94042/94042 [==============================] - 22s 232us/step - loss: 0.5119 - acc: 0.9361 - val_loss: 1.0530 - val_acc: 0.9386\n",
      "Epoch 72/100\n",
      "94042/94042 [==============================] - 22s 232us/step - loss: 0.5570 - acc: 0.9256 - val_loss: 0.9939 - val_acc: 0.9403\n",
      "Epoch 73/100\n",
      "94042/94042 [==============================] - 22s 233us/step - loss: 0.5449 - acc: 0.9326 - val_loss: 1.0680 - val_acc: 0.9447\n",
      "Epoch 74/100\n",
      "94042/94042 [==============================] - 22s 232us/step - loss: 0.5292 - acc: 0.9251 - val_loss: 1.0124 - val_acc: 0.9311\n",
      "Epoch 75/100\n",
      "94042/94042 [==============================] - 22s 232us/step - loss: 0.5652 - acc: 0.9332 - val_loss: 0.9526 - val_acc: 0.9362\n",
      "Epoch 76/100\n",
      "94042/94042 [==============================] - 22s 233us/step - loss: 0.5292 - acc: 0.9327 - val_loss: 0.9564 - val_acc: 0.9105\n",
      "Epoch 77/100\n",
      "94042/94042 [==============================] - 22s 232us/step - loss: 0.5273 - acc: 0.9304 - val_loss: 0.9152 - val_acc: 0.9305\n",
      "Epoch 78/100\n",
      "94042/94042 [==============================] - 22s 232us/step - loss: 0.5316 - acc: 0.9347 - val_loss: 0.9662 - val_acc: 0.9199\n",
      "Epoch 79/100\n",
      "94042/94042 [==============================] - 22s 232us/step - loss: 0.5166 - acc: 0.9295 - val_loss: 1.0775 - val_acc: 0.9464\n",
      "Epoch 80/100\n",
      "94042/94042 [==============================] - 22s 233us/step - loss: 0.5376 - acc: 0.9318 - val_loss: 0.9598 - val_acc: 0.9386\n",
      "Epoch 81/100\n",
      "94042/94042 [==============================] - 22s 232us/step - loss: 0.5020 - acc: 0.9361 - val_loss: 0.9564 - val_acc: 0.9353\n",
      "Epoch 82/100\n",
      "94042/94042 [==============================] - 22s 232us/step - loss: 0.5477 - acc: 0.9315 - val_loss: 1.0619 - val_acc: 0.9484\n",
      "Epoch 83/100\n",
      "94042/94042 [==============================] - 22s 231us/step - loss: 0.5292 - acc: 0.9344 - val_loss: 0.9945 - val_acc: 0.9332\n",
      "Epoch 84/100\n",
      "94042/94042 [==============================] - 22s 232us/step - loss: 0.5238 - acc: 0.9354 - val_loss: 0.8772 - val_acc: 0.9317\n",
      "Epoch 85/100\n",
      "94042/94042 [==============================] - 22s 231us/step - loss: 0.5274 - acc: 0.9346 - val_loss: 0.8662 - val_acc: 0.9265\n",
      "Epoch 86/100\n",
      "94042/94042 [==============================] - 22s 232us/step - loss: 0.5379 - acc: 0.9338 - val_loss: 0.8617 - val_acc: 0.9444\n",
      "Epoch 87/100\n",
      "94042/94042 [==============================] - 22s 234us/step - loss: 0.5200 - acc: 0.9333 - val_loss: 0.9790 - val_acc: 0.9334\n",
      "Epoch 88/100\n",
      "94042/94042 [==============================] - 22s 232us/step - loss: 0.5170 - acc: 0.9350 - val_loss: 1.0748 - val_acc: 0.9414\n",
      "Epoch 89/100\n",
      "94042/94042 [==============================] - 22s 231us/step - loss: 0.4924 - acc: 0.9389 - val_loss: 0.9322 - val_acc: 0.9436\n",
      "Epoch 90/100\n",
      "94042/94042 [==============================] - 22s 232us/step - loss: 0.5084 - acc: 0.9344 - val_loss: 0.9522 - val_acc: 0.9216\n",
      "Epoch 91/100\n",
      "94042/94042 [==============================] - 22s 232us/step - loss: 0.5398 - acc: 0.9286 - val_loss: 0.9188 - val_acc: 0.9436\n",
      "Epoch 92/100\n",
      "94042/94042 [==============================] - 22s 233us/step - loss: 0.5251 - acc: 0.9359 - val_loss: 1.0361 - val_acc: 0.9420\n",
      "Epoch 93/100\n",
      "94042/94042 [==============================] - 22s 232us/step - loss: 0.5422 - acc: 0.9334 - val_loss: 0.8610 - val_acc: 0.9331\n",
      "Epoch 94/100\n",
      "94042/94042 [==============================] - 22s 231us/step - loss: 0.5041 - acc: 0.9364 - val_loss: 0.8577 - val_acc: 0.9345\n",
      "Epoch 95/100\n",
      "94042/94042 [==============================] - 22s 233us/step - loss: 0.5059 - acc: 0.9381 - val_loss: 0.9663 - val_acc: 0.9463\n",
      "Epoch 96/100\n",
      "94042/94042 [==============================] - 22s 230us/step - loss: 0.5124 - acc: 0.9362 - val_loss: 0.9901 - val_acc: 0.9297\n",
      "Epoch 97/100\n",
      "94042/94042 [==============================] - 22s 232us/step - loss: 0.4991 - acc: 0.9370 - val_loss: 1.0475 - val_acc: 0.9222\n",
      "Epoch 98/100\n",
      "94042/94042 [==============================] - 22s 233us/step - loss: 0.4976 - acc: 0.9328 - val_loss: 0.9996 - val_acc: 0.9244\n",
      "Epoch 99/100\n",
      "94042/94042 [==============================] - 22s 233us/step - loss: 0.5058 - acc: 0.9333 - val_loss: 0.9434 - val_acc: 0.9356\n",
      "Epoch 100/100\n",
      "94042/94042 [==============================] - 22s 233us/step - loss: 0.5216 - acc: 0.9316 - val_loss: 1.0455 - val_acc: 0.9393\n",
      "\n",
      "=======================\n",
      "Model no. 9\n",
      "_________________________________________________________________\n",
      "Layer (type)                 Output Shape              Param #   \n",
      "=================================================================\n",
      "batch_normalization_13 (Batc (None, 256, 3)            12        \n",
      "_________________________________________________________________\n",
      "dropout_25 (Dropout)         (None, 256, 3)            0         \n",
      "_________________________________________________________________\n",
      "cu_dnngru_5 (CuDNNGRU)       (None, 32)                3552      \n",
      "_________________________________________________________________\n",
      "dropout_26 (Dropout)         (None, 32)                0         \n",
      "_________________________________________________________________\n",
      "dense_13 (Dense)             (None, 3)                 99        \n",
      "=================================================================\n",
      "Total params: 3,663\n",
      "Trainable params: 3,657\n",
      "Non-trainable params: 6\n",
      "_________________________________________________________________\n"
     ]
    },
    {
     "name": "stdout",
     "output_type": "stream",
     "text": [
      "Train on 94042 samples, validate on 22946 samples\n",
      "Epoch 1/100\n",
      "94042/94042 [==============================] - 43s 460us/step - loss: 2.6056 - acc: 0.5136 - val_loss: 2.4934 - val_acc: 0.6804\n",
      "Epoch 2/100\n",
      "94042/94042 [==============================] - 42s 449us/step - loss: 2.2452 - acc: 0.5782 - val_loss: 1.9345 - val_acc: 0.5736\n",
      "Epoch 3/100\n",
      "94042/94042 [==============================] - 42s 452us/step - loss: 1.7308 - acc: 0.6663 - val_loss: 1.5558 - val_acc: 0.7679\n",
      "Epoch 4/100\n",
      "94042/94042 [==============================] - 42s 449us/step - loss: 1.4352 - acc: 0.7513 - val_loss: 1.3377 - val_acc: 0.7767\n",
      "Epoch 5/100\n",
      "94042/94042 [==============================] - 42s 449us/step - loss: 1.3499 - acc: 0.7725 - val_loss: 1.2596 - val_acc: 0.8809\n",
      "Epoch 6/100\n",
      "94042/94042 [==============================] - 42s 451us/step - loss: 1.2024 - acc: 0.8220 - val_loss: 1.3823 - val_acc: 0.9369\n",
      "Epoch 7/100\n",
      "94042/94042 [==============================] - 42s 451us/step - loss: 1.1565 - acc: 0.8609 - val_loss: 1.2741 - val_acc: 0.9278\n",
      "Epoch 8/100\n",
      "94042/94042 [==============================] - 42s 451us/step - loss: 1.0903 - acc: 0.8735 - val_loss: 1.2943 - val_acc: 0.9202\n",
      "Epoch 9/100\n",
      "94042/94042 [==============================] - 42s 450us/step - loss: 1.0119 - acc: 0.8829 - val_loss: 1.2632 - val_acc: 0.9323\n",
      "Epoch 10/100\n",
      "94042/94042 [==============================] - 42s 449us/step - loss: 0.9728 - acc: 0.8880 - val_loss: 1.1595 - val_acc: 0.9137\n",
      "Epoch 11/100\n",
      "94042/94042 [==============================] - 42s 450us/step - loss: 0.9560 - acc: 0.8936 - val_loss: 1.2628 - val_acc: 0.9447\n",
      "Epoch 12/100\n",
      "94042/94042 [==============================] - 42s 452us/step - loss: 0.9194 - acc: 0.9053 - val_loss: 1.0423 - val_acc: 0.9211\n",
      "Epoch 13/100\n",
      "94042/94042 [==============================] - 42s 451us/step - loss: 0.8826 - acc: 0.9069 - val_loss: 1.0069 - val_acc: 0.9247\n",
      "Epoch 14/100\n",
      "94042/94042 [==============================] - 42s 449us/step - loss: 0.8538 - acc: 0.9107 - val_loss: 1.0227 - val_acc: 0.9219\n",
      "Epoch 15/100\n",
      "94042/94042 [==============================] - 42s 451us/step - loss: 0.8576 - acc: 0.9127 - val_loss: 1.0644 - val_acc: 0.9234\n",
      "Epoch 16/100\n",
      "94042/94042 [==============================] - 42s 451us/step - loss: 0.8543 - acc: 0.9093 - val_loss: 1.0880 - val_acc: 0.9262\n",
      "Epoch 17/100\n",
      "94042/94042 [==============================] - 42s 451us/step - loss: 0.8130 - acc: 0.9151 - val_loss: 1.0053 - val_acc: 0.9408\n",
      "Epoch 18/100\n",
      "94042/94042 [==============================] - 42s 450us/step - loss: 0.8338 - acc: 0.9081 - val_loss: 1.0660 - val_acc: 0.9447\n",
      "Epoch 19/100\n",
      "94042/94042 [==============================] - 42s 450us/step - loss: 0.8100 - acc: 0.9133 - val_loss: 1.0613 - val_acc: 0.9402\n",
      "Epoch 20/100\n",
      "94042/94042 [==============================] - 42s 450us/step - loss: 0.7842 - acc: 0.9221 - val_loss: 1.1113 - val_acc: 0.9202\n",
      "Epoch 21/100\n",
      "94042/94042 [==============================] - 42s 452us/step - loss: 0.7811 - acc: 0.9122 - val_loss: 0.9252 - val_acc: 0.9355\n",
      "Epoch 22/100\n",
      "94042/94042 [==============================] - 42s 450us/step - loss: 0.7564 - acc: 0.9222 - val_loss: 1.1166 - val_acc: 0.9425\n",
      "Epoch 23/100\n",
      "94042/94042 [==============================] - 42s 449us/step - loss: 0.7652 - acc: 0.9238 - val_loss: 0.8691 - val_acc: 0.9314\n",
      "Epoch 24/100\n",
      "94042/94042 [==============================] - 42s 449us/step - loss: 0.7514 - acc: 0.9150 - val_loss: 0.8807 - val_acc: 0.9404\n",
      "Epoch 25/100\n",
      "94042/94042 [==============================] - 42s 449us/step - loss: 0.7690 - acc: 0.9251 - val_loss: 0.9635 - val_acc: 0.9499\n",
      "Epoch 26/100\n",
      "94042/94042 [==============================] - 42s 451us/step - loss: 0.7346 - acc: 0.9199 - val_loss: 1.0000 - val_acc: 0.8828\n",
      "Epoch 27/100\n",
      "94042/94042 [==============================] - 42s 451us/step - loss: 0.7650 - acc: 0.9204 - val_loss: 1.0205 - val_acc: 0.9414\n",
      "Epoch 28/100\n",
      "94042/94042 [==============================] - 42s 450us/step - loss: 0.7286 - acc: 0.9216 - val_loss: 0.9606 - val_acc: 0.9400\n",
      "Epoch 29/100\n",
      "94042/94042 [==============================] - 42s 450us/step - loss: 0.6978 - acc: 0.9273 - val_loss: 1.2737 - val_acc: 0.9537\n",
      "Epoch 30/100\n",
      "94042/94042 [==============================] - 42s 451us/step - loss: 0.7230 - acc: 0.9199 - val_loss: 1.0184 - val_acc: 0.9381\n",
      "Epoch 31/100\n",
      "94042/94042 [==============================] - 42s 451us/step - loss: 0.6759 - acc: 0.9280 - val_loss: 0.9848 - val_acc: 0.9430\n",
      "Epoch 32/100\n",
      "94042/94042 [==============================] - 42s 449us/step - loss: 0.7258 - acc: 0.9177 - val_loss: 0.9478 - val_acc: 0.9237\n",
      "Epoch 33/100\n",
      "94042/94042 [==============================] - 42s 450us/step - loss: 0.6969 - acc: 0.9254 - val_loss: 1.1504 - val_acc: 0.9403\n",
      "Epoch 34/100\n",
      "94042/94042 [==============================] - 42s 451us/step - loss: 0.6832 - acc: 0.9258 - val_loss: 1.0621 - val_acc: 0.8451\n",
      "Epoch 35/100\n",
      "94042/94042 [==============================] - 42s 450us/step - loss: 0.6945 - acc: 0.9165 - val_loss: 0.9752 - val_acc: 0.9425\n",
      "Epoch 36/100\n",
      "94042/94042 [==============================] - 42s 449us/step - loss: 0.6659 - acc: 0.9262 - val_loss: 1.0561 - val_acc: 0.9148\n",
      "Epoch 37/100\n",
      "94042/94042 [==============================] - 42s 449us/step - loss: 0.6499 - acc: 0.9253 - val_loss: 1.0970 - val_acc: 0.9396\n",
      "Epoch 38/100\n",
      "94042/94042 [==============================] - 42s 449us/step - loss: 0.6807 - acc: 0.9235 - val_loss: 1.0825 - val_acc: 0.9305\n",
      "Epoch 39/100\n",
      "94042/94042 [==============================] - 42s 450us/step - loss: 0.6626 - acc: 0.9257 - val_loss: 1.1284 - val_acc: 0.9494\n",
      "Epoch 40/100\n",
      "94042/94042 [==============================] - 42s 452us/step - loss: 0.6525 - acc: 0.9295 - val_loss: 1.1862 - val_acc: 0.9454\n",
      "Epoch 41/100\n",
      "94042/94042 [==============================] - 42s 451us/step - loss: 0.6462 - acc: 0.9254 - val_loss: 1.3403 - val_acc: 0.9511\n",
      "Epoch 42/100\n",
      "94042/94042 [==============================] - 42s 451us/step - loss: 0.6880 - acc: 0.9248 - val_loss: 1.0110 - val_acc: 0.9462\n",
      "Epoch 43/100\n",
      "94042/94042 [==============================] - 42s 450us/step - loss: 0.6371 - acc: 0.9229 - val_loss: 1.0820 - val_acc: 0.9417\n",
      "Epoch 44/100\n",
      "94042/94042 [==============================] - 42s 448us/step - loss: 0.6544 - acc: 0.9227 - val_loss: 1.0548 - val_acc: 0.9369\n",
      "Epoch 45/100\n",
      "94042/94042 [==============================] - 42s 450us/step - loss: 0.6423 - acc: 0.9284 - val_loss: 0.9384 - val_acc: 0.9342\n",
      "Epoch 46/100\n",
      "94042/94042 [==============================] - 42s 450us/step - loss: 0.6636 - acc: 0.9280 - val_loss: 0.9178 - val_acc: 0.9226\n",
      "Epoch 47/100\n",
      "94042/94042 [==============================] - 43s 454us/step - loss: 0.6181 - acc: 0.9277 - val_loss: 0.9519 - val_acc: 0.9350\n",
      "Epoch 48/100\n",
      "94042/94042 [==============================] - 42s 450us/step - loss: 0.6358 - acc: 0.9289 - val_loss: 1.2187 - val_acc: 0.9508\n",
      "Epoch 49/100\n",
      "94042/94042 [==============================] - 42s 447us/step - loss: 0.6418 - acc: 0.9254 - val_loss: 1.2663 - val_acc: 0.9432\n",
      "Epoch 50/100\n",
      "94042/94042 [==============================] - 42s 450us/step - loss: 0.6182 - acc: 0.9321 - val_loss: 1.2195 - val_acc: 0.9423\n",
      "Epoch 51/100\n",
      "94042/94042 [==============================] - 42s 450us/step - loss: 0.6347 - acc: 0.9254 - val_loss: 1.0424 - val_acc: 0.9356\n",
      "Epoch 52/100\n",
      "94042/94042 [==============================] - 42s 449us/step - loss: 0.6432 - acc: 0.9193 - val_loss: 1.2210 - val_acc: 0.9484\n",
      "Epoch 53/100\n",
      "94042/94042 [==============================] - 43s 453us/step - loss: 0.6137 - acc: 0.9227 - val_loss: 0.8800 - val_acc: 0.9232\n",
      "Epoch 54/100\n",
      "94042/94042 [==============================] - 42s 449us/step - loss: 0.6003 - acc: 0.9303 - val_loss: 0.9823 - val_acc: 0.9417\n",
      "Epoch 55/100\n",
      "94042/94042 [==============================] - 42s 450us/step - loss: 0.5829 - acc: 0.9302 - val_loss: 1.3256 - val_acc: 0.9518\n",
      "Epoch 56/100\n",
      "94042/94042 [==============================] - 42s 449us/step - loss: 0.6069 - acc: 0.9249 - val_loss: 1.1314 - val_acc: 0.9512\n",
      "Epoch 57/100\n",
      "94042/94042 [==============================] - 42s 450us/step - loss: 0.5877 - acc: 0.9351 - val_loss: 1.1986 - val_acc: 0.9478\n",
      "Epoch 58/100\n",
      "94042/94042 [==============================] - 42s 450us/step - loss: 0.6097 - acc: 0.9270 - val_loss: 1.0588 - val_acc: 0.9398\n"
     ]
    },
    {
     "name": "stdout",
     "output_type": "stream",
     "text": [
      "Epoch 59/100\n",
      "94042/94042 [==============================] - 42s 450us/step - loss: 0.5897 - acc: 0.9325 - val_loss: 1.3075 - val_acc: 0.9480\n",
      "Epoch 60/100\n",
      "94042/94042 [==============================] - 42s 450us/step - loss: 0.7243 - acc: 0.9265 - val_loss: 1.1439 - val_acc: 0.9505\n",
      "Epoch 61/100\n",
      "94042/94042 [==============================] - 42s 449us/step - loss: 0.7063 - acc: 0.9260 - val_loss: 0.9793 - val_acc: 0.9432\n",
      "Epoch 62/100\n",
      "94042/94042 [==============================] - 42s 447us/step - loss: 0.6160 - acc: 0.9333 - val_loss: 1.0089 - val_acc: 0.9305\n",
      "Epoch 63/100\n",
      "94042/94042 [==============================] - 42s 449us/step - loss: 0.5989 - acc: 0.9318 - val_loss: 1.1831 - val_acc: 0.9463\n",
      "Epoch 64/100\n",
      "94042/94042 [==============================] - 42s 449us/step - loss: 0.6024 - acc: 0.9314 - val_loss: 1.1436 - val_acc: 0.9441\n",
      "Epoch 65/100\n",
      "94042/94042 [==============================] - 42s 451us/step - loss: 0.5607 - acc: 0.9335 - val_loss: 1.2896 - val_acc: 0.9491\n",
      "Epoch 66/100\n",
      "94042/94042 [==============================] - 42s 452us/step - loss: 0.6063 - acc: 0.9315 - val_loss: 1.1667 - val_acc: 0.9507\n",
      "Epoch 67/100\n",
      "94042/94042 [==============================] - 42s 450us/step - loss: 0.5779 - acc: 0.9345 - val_loss: 1.2421 - val_acc: 0.9507\n",
      "Epoch 68/100\n",
      "94042/94042 [==============================] - 42s 449us/step - loss: 0.5880 - acc: 0.9333 - val_loss: 1.2620 - val_acc: 0.9420\n",
      "Epoch 69/100\n",
      "94042/94042 [==============================] - 42s 448us/step - loss: 0.5687 - acc: 0.9309 - val_loss: 1.1538 - val_acc: 0.9485\n",
      "Epoch 70/100\n",
      "94042/94042 [==============================] - 42s 450us/step - loss: 0.5782 - acc: 0.9326 - val_loss: 0.9224 - val_acc: 0.9314\n",
      "Epoch 71/100\n",
      "94042/94042 [==============================] - 42s 448us/step - loss: 0.5686 - acc: 0.9324 - val_loss: 0.8540 - val_acc: 0.9199\n",
      "Epoch 72/100\n",
      "94042/94042 [==============================] - 42s 451us/step - loss: 0.5942 - acc: 0.9316 - val_loss: 0.9967 - val_acc: 0.9389\n",
      "Epoch 73/100\n",
      "94042/94042 [==============================] - 42s 451us/step - loss: 0.5331 - acc: 0.9356 - val_loss: 1.3748 - val_acc: 0.9402\n",
      "Epoch 74/100\n",
      "94042/94042 [==============================] - 42s 450us/step - loss: 0.5726 - acc: 0.9327 - val_loss: 0.8745 - val_acc: 0.9375\n",
      "Epoch 75/100\n",
      "94042/94042 [==============================] - 42s 450us/step - loss: 0.5578 - acc: 0.9326 - val_loss: 0.8904 - val_acc: 0.9361\n",
      "Epoch 76/100\n",
      "94042/94042 [==============================] - 42s 449us/step - loss: 0.5521 - acc: 0.9355 - val_loss: 1.0324 - val_acc: 0.9064\n",
      "Epoch 77/100\n",
      "94042/94042 [==============================] - 42s 450us/step - loss: 0.5647 - acc: 0.9297 - val_loss: 0.9083 - val_acc: 0.9237\n",
      "Epoch 78/100\n",
      "94042/94042 [==============================] - 42s 450us/step - loss: 0.5605 - acc: 0.9304 - val_loss: 1.0773 - val_acc: 0.9375\n",
      "Epoch 79/100\n",
      "94042/94042 [==============================] - 42s 449us/step - loss: 0.5451 - acc: 0.9326 - val_loss: 1.0924 - val_acc: 0.9495\n",
      "Epoch 80/100\n",
      "94042/94042 [==============================] - 42s 448us/step - loss: 0.5496 - acc: 0.9323 - val_loss: 1.0745 - val_acc: 0.9230\n",
      "Epoch 81/100\n",
      "94042/94042 [==============================] - 42s 448us/step - loss: 0.5894 - acc: 0.9329 - val_loss: 1.1050 - val_acc: 0.9470\n",
      "Epoch 82/100\n",
      "94042/94042 [==============================] - 42s 450us/step - loss: 0.5603 - acc: 0.9354 - val_loss: 0.9782 - val_acc: 0.9339\n",
      "Epoch 83/100\n",
      "94042/94042 [==============================] - 42s 449us/step - loss: 0.5419 - acc: 0.9341 - val_loss: 1.0403 - val_acc: 0.9352\n",
      "Epoch 84/100\n",
      "94042/94042 [==============================] - 42s 451us/step - loss: 0.5400 - acc: 0.9367 - val_loss: 1.1794 - val_acc: 0.9486\n",
      "Epoch 85/100\n",
      "94042/94042 [==============================] - 42s 451us/step - loss: 0.5293 - acc: 0.9356 - val_loss: 1.4024 - val_acc: 0.9260\n",
      "Epoch 86/100\n",
      "94042/94042 [==============================] - 42s 452us/step - loss: 0.5404 - acc: 0.9323 - val_loss: 1.1892 - val_acc: 0.9440\n",
      "Epoch 87/100\n",
      "94042/94042 [==============================] - 42s 450us/step - loss: 0.5551 - acc: 0.9357 - val_loss: 0.8686 - val_acc: 0.9138\n",
      "Epoch 88/100\n",
      "94042/94042 [==============================] - 42s 450us/step - loss: 0.5215 - acc: 0.9316 - val_loss: 0.9228 - val_acc: 0.9119\n",
      "Epoch 89/100\n",
      "94042/94042 [==============================] - 42s 451us/step - loss: 0.5527 - acc: 0.9309 - val_loss: 0.8444 - val_acc: 0.9379\n",
      "Epoch 90/100\n",
      "94042/94042 [==============================] - 42s 449us/step - loss: 0.5539 - acc: 0.9334 - val_loss: 0.9178 - val_acc: 0.9349\n",
      "Epoch 91/100\n",
      "94042/94042 [==============================] - 42s 451us/step - loss: 0.5382 - acc: 0.9326 - val_loss: 1.0204 - val_acc: 0.9356\n",
      "Epoch 92/100\n",
      "94042/94042 [==============================] - 42s 449us/step - loss: 0.5453 - acc: 0.9274 - val_loss: 0.9928 - val_acc: 0.9516\n",
      "Epoch 93/100\n",
      "94042/94042 [==============================] - 42s 450us/step - loss: 0.5258 - acc: 0.9361 - val_loss: 1.3520 - val_acc: 0.9407\n",
      "Epoch 94/100\n",
      "94042/94042 [==============================] - 42s 449us/step - loss: 0.5547 - acc: 0.9332 - val_loss: 0.9814 - val_acc: 0.9305\n",
      "Epoch 95/100\n",
      "94042/94042 [==============================] - 42s 450us/step - loss: 0.5215 - acc: 0.9326 - val_loss: 1.1029 - val_acc: 0.9399\n",
      "Epoch 96/100\n",
      "94042/94042 [==============================] - 42s 450us/step - loss: 0.6336 - acc: 0.9091 - val_loss: 1.1266 - val_acc: 0.9232\n",
      "Epoch 97/100\n",
      "94042/94042 [==============================] - 42s 451us/step - loss: 0.6464 - acc: 0.9012 - val_loss: 1.1672 - val_acc: 0.9022\n",
      "Epoch 98/100\n",
      "94042/94042 [==============================] - 42s 451us/step - loss: 0.6146 - acc: 0.9077 - val_loss: 1.2331 - val_acc: 0.9170\n",
      "Epoch 99/100\n",
      "94042/94042 [==============================] - 42s 450us/step - loss: 0.5858 - acc: 0.9129 - val_loss: 1.2566 - val_acc: 0.9324\n",
      "Epoch 100/100\n",
      "94042/94042 [==============================] - 42s 451us/step - loss: 0.5761 - acc: 0.9196 - val_loss: 1.1230 - val_acc: 0.9403\n",
      "\n",
      "=======================\n",
      "Model no. 10\n",
      "\n",
      "=======================\n",
      "Model no. 11\n",
      "\n",
      "=======================\n",
      "Model no. 12\n"
     ]
    }
   ],
   "source": [
    "import pandas as pd\n",
    "\n",
    "model_set_name = 'researchset_c_2'\n",
    "w_list = [256]\n",
    "stride_list = [128]\n",
    "rnntype_list = ['lstm', 'gru'] #['lstm', 'gru']\n",
    "lr_list = [0.0015, 0.001, 0.0005] #[0.005, 0.001, 0.0005]\n",
    "batchsize_list = [32, 64]\n",
    "drop_coeff_rnn_list = [0.2]\n",
    "drop_coeff_dense_list = [0.35]\n",
    "# Construction of data_frame with | model_id | param_1 | ... | param_n | as columns\n",
    "\n",
    "info_list = list()\n",
    "model_id = 1\n",
    "for w in w_list:\n",
    "    for stride in stride_list:\n",
    "        for rnntype in rnntype_list:\n",
    "            for lr in lr_list:\n",
    "                for batchsize in batchsize_list:\n",
    "                    for drop_rnn in drop_coeff_rnn_list:\n",
    "                        for drop_dense in drop_coeff_dense_list:\n",
    "                            #if (drop_rnn == 0.2 and drop_dense == 0):\n",
    "                            #    print('dropout_rnn == 0.2 and dropout_dense == 0 jumped'.format())\n",
    "                            #    continue\n",
    "                            print([model_id, w, stride, rnntype, lr, batchsize, drop_rnn, drop_dense, False, False])\n",
    "                            info_list.append([model_id, w, stride, rnntype, lr, batchsize, drop_rnn, drop_dense, False, False])\n",
    "                            model_id += 1\n",
    "\n",
    "info_dataframe = pd.DataFrame(info_list, columns = ['model_id', 'w', 'stride', 'rnn_type', 'lr', 'batch_size', 'rnn_dropout', 'dense_dropout', 'two_rnn_layers', 'first_dense'])\n",
    "\n",
    "## Saving the dataframe\n",
    "#info_dataframe.to_csv(model_set_name + '_research_summary.csv', index=False)\n",
    "\n",
    "model_id = 1\n",
    "for w in w_list:\n",
    "    for stride in stride_list:\n",
    "        for rnntype in rnntype_list:\n",
    "            for lr in lr_list:\n",
    "                for batchsize in batchsize_list:\n",
    "                    for drop_rnn in drop_coeff_rnn_list:\n",
    "                        for drop_dense in drop_coeff_dense_list:\n",
    "                            #if (drop_rnn == 0.2 and drop_dense == 0):\n",
    "                            #    print('dropout_rnn == 0.2 and dropout_dense == 0 jumped'.format())\n",
    "                            #    continue\n",
    "                            print('\\n=======================\\nModel no. {}'.format(model_id))\n",
    "                            if(model_id == 8 or model_id == 9):\n",
    "                                results = trainRNNModel(dataTrWinValues[:,:,:3], dataTrWinLabel, dataTestWinValues[:,:,:3], dataTestWinLabel, epochs = 100, lr=lr, w = w, stride = stride, batch_size = batchsize, rnn_type = rnntype, two_rnn_layers=False, drop_coeff_rnn=drop_rnn, drop_coeff_dense=drop_dense, first_dense=False)\n",
    "                                train_info = results[1].history\n",
    "                                eval_info = results[2]\n",
    "                                model_performance_info = { 'train_history' : train_info, 'eval_results' : eval_info, 'optional_data' : 'n_test_subjects=8, w=256, stride=128'}\n",
    "                                # Saving both model and performance_info\n",
    "                                np.save(model_set_name + '_model_id_' + str(model_id) + '_info.npy', model_performance_info)\n",
    "                                results[0].save(model_set_name + '_model_id_' + str(model_id) + '_fullmodel.h5')\n",
    "                            model_id += 1"
   ]
  },
  {
   "cell_type": "markdown",
   "metadata": {},
   "source": [
    "## Analysis of results"
   ]
  },
  {
   "cell_type": "code",
   "execution_count": 6,
   "metadata": {},
   "outputs": [],
   "source": [
    "def plot_confusion_matrix_v2(cm, classes,\n",
    "                          normalize=False,\n",
    "                          title='Confusion matrix',\n",
    "                          cmap=plt.cm.Blues):\n",
    "    \"\"\"\n",
    "    This function prints and plots the confusion matrix.\n",
    "    Normalization can be applied by setting `normalize=True`.\n",
    "    \"\"\"\n",
    "    if normalize:\n",
    "        cm = cm.astype('float') / cm.sum(axis=1)[:, np.newaxis]\n",
    "        print(\"Normalized confusion matrix\")\n",
    "    else:\n",
    "        cm = cm.astype('int')\n",
    "        print('Confusion matrix, without normalization')\n",
    "\n",
    "    print(cm)\n",
    "\n",
    "    plt.imshow(cm, interpolation='nearest', cmap=cmap)\n",
    "    plt.title(title)\n",
    "    plt.colorbar()\n",
    "    tick_marks = np.arange(len(classes))\n",
    "    plt.xticks(tick_marks, classes, rotation=45)\n",
    "    plt.yticks(tick_marks, classes)\n",
    "\n",
    "    fmt = '.2%' if normalize else 'd'\n",
    "    thresh = cm.max() / 2.\n",
    "    for i, j in itertools.product(range(cm.shape[0]), range(cm.shape[1])):\n",
    "        plt.text(j, i, format(cm[i, j], fmt),\n",
    "                 horizontalalignment=\"center\",\n",
    "                 color=\"white\" if cm[i, j] > thresh else \"black\")\n",
    "\n",
    "    plt.tight_layout()\n",
    "    plt.ylabel('Clase real')\n",
    "    plt.xlabel('Clase predicha')"
   ]
  },
  {
   "cell_type": "code",
   "execution_count": 3,
   "metadata": {},
   "outputs": [],
   "source": [
    "import pandas as pd\n",
    "from keras.models import load_model\n",
    "\n",
    "research_set_folder = 'researchset4'"
   ]
  },
  {
   "cell_type": "markdown",
   "metadata": {},
   "source": [
    "### Model table"
   ]
  },
  {
   "cell_type": "code",
   "execution_count": 4,
   "metadata": {
    "scrolled": true
   },
   "outputs": [
    {
     "data": {
      "text/html": [
       "<div>\n",
       "<style scoped>\n",
       "    .dataframe tbody tr th:only-of-type {\n",
       "        vertical-align: middle;\n",
       "    }\n",
       "\n",
       "    .dataframe tbody tr th {\n",
       "        vertical-align: top;\n",
       "    }\n",
       "\n",
       "    .dataframe thead th {\n",
       "        text-align: right;\n",
       "    }\n",
       "</style>\n",
       "<table border=\"1\" class=\"dataframe\">\n",
       "  <thead>\n",
       "    <tr style=\"text-align: right;\">\n",
       "      <th></th>\n",
       "      <th>model_id</th>\n",
       "      <th>w</th>\n",
       "      <th>stride</th>\n",
       "      <th>rnn_type</th>\n",
       "      <th>lr</th>\n",
       "      <th>batch_size</th>\n",
       "      <th>rnn_dropout</th>\n",
       "      <th>dense_dropout</th>\n",
       "      <th>two_rnn_layers</th>\n",
       "      <th>first_dense</th>\n",
       "    </tr>\n",
       "  </thead>\n",
       "  <tbody>\n",
       "    <tr>\n",
       "      <th>0</th>\n",
       "      <td>1</td>\n",
       "      <td>256</td>\n",
       "      <td>128</td>\n",
       "      <td>lstm</td>\n",
       "      <td>0.001</td>\n",
       "      <td>32</td>\n",
       "      <td>0.20</td>\n",
       "      <td>0.2</td>\n",
       "      <td>False</td>\n",
       "      <td>False</td>\n",
       "    </tr>\n",
       "    <tr>\n",
       "      <th>1</th>\n",
       "      <td>2</td>\n",
       "      <td>256</td>\n",
       "      <td>128</td>\n",
       "      <td>lstm</td>\n",
       "      <td>0.001</td>\n",
       "      <td>32</td>\n",
       "      <td>0.35</td>\n",
       "      <td>0.0</td>\n",
       "      <td>False</td>\n",
       "      <td>False</td>\n",
       "    </tr>\n",
       "    <tr>\n",
       "      <th>2</th>\n",
       "      <td>3</td>\n",
       "      <td>256</td>\n",
       "      <td>128</td>\n",
       "      <td>lstm</td>\n",
       "      <td>0.001</td>\n",
       "      <td>32</td>\n",
       "      <td>0.35</td>\n",
       "      <td>0.2</td>\n",
       "      <td>False</td>\n",
       "      <td>False</td>\n",
       "    </tr>\n",
       "    <tr>\n",
       "      <th>3</th>\n",
       "      <td>4</td>\n",
       "      <td>256</td>\n",
       "      <td>128</td>\n",
       "      <td>lstm</td>\n",
       "      <td>0.001</td>\n",
       "      <td>64</td>\n",
       "      <td>0.20</td>\n",
       "      <td>0.2</td>\n",
       "      <td>False</td>\n",
       "      <td>False</td>\n",
       "    </tr>\n",
       "    <tr>\n",
       "      <th>4</th>\n",
       "      <td>5</td>\n",
       "      <td>256</td>\n",
       "      <td>128</td>\n",
       "      <td>lstm</td>\n",
       "      <td>0.001</td>\n",
       "      <td>64</td>\n",
       "      <td>0.35</td>\n",
       "      <td>0.0</td>\n",
       "      <td>False</td>\n",
       "      <td>False</td>\n",
       "    </tr>\n",
       "    <tr>\n",
       "      <th>5</th>\n",
       "      <td>6</td>\n",
       "      <td>256</td>\n",
       "      <td>128</td>\n",
       "      <td>lstm</td>\n",
       "      <td>0.001</td>\n",
       "      <td>64</td>\n",
       "      <td>0.35</td>\n",
       "      <td>0.2</td>\n",
       "      <td>False</td>\n",
       "      <td>False</td>\n",
       "    </tr>\n",
       "    <tr>\n",
       "      <th>6</th>\n",
       "      <td>7</td>\n",
       "      <td>256</td>\n",
       "      <td>128</td>\n",
       "      <td>gru</td>\n",
       "      <td>0.001</td>\n",
       "      <td>32</td>\n",
       "      <td>0.20</td>\n",
       "      <td>0.2</td>\n",
       "      <td>False</td>\n",
       "      <td>False</td>\n",
       "    </tr>\n",
       "    <tr>\n",
       "      <th>7</th>\n",
       "      <td>8</td>\n",
       "      <td>256</td>\n",
       "      <td>128</td>\n",
       "      <td>gru</td>\n",
       "      <td>0.001</td>\n",
       "      <td>32</td>\n",
       "      <td>0.35</td>\n",
       "      <td>0.0</td>\n",
       "      <td>False</td>\n",
       "      <td>False</td>\n",
       "    </tr>\n",
       "    <tr>\n",
       "      <th>8</th>\n",
       "      <td>9</td>\n",
       "      <td>256</td>\n",
       "      <td>128</td>\n",
       "      <td>gru</td>\n",
       "      <td>0.001</td>\n",
       "      <td>32</td>\n",
       "      <td>0.35</td>\n",
       "      <td>0.2</td>\n",
       "      <td>False</td>\n",
       "      <td>False</td>\n",
       "    </tr>\n",
       "    <tr>\n",
       "      <th>9</th>\n",
       "      <td>10</td>\n",
       "      <td>256</td>\n",
       "      <td>128</td>\n",
       "      <td>gru</td>\n",
       "      <td>0.001</td>\n",
       "      <td>64</td>\n",
       "      <td>0.20</td>\n",
       "      <td>0.2</td>\n",
       "      <td>False</td>\n",
       "      <td>False</td>\n",
       "    </tr>\n",
       "    <tr>\n",
       "      <th>10</th>\n",
       "      <td>11</td>\n",
       "      <td>256</td>\n",
       "      <td>128</td>\n",
       "      <td>gru</td>\n",
       "      <td>0.001</td>\n",
       "      <td>64</td>\n",
       "      <td>0.35</td>\n",
       "      <td>0.0</td>\n",
       "      <td>False</td>\n",
       "      <td>False</td>\n",
       "    </tr>\n",
       "    <tr>\n",
       "      <th>11</th>\n",
       "      <td>12</td>\n",
       "      <td>256</td>\n",
       "      <td>128</td>\n",
       "      <td>gru</td>\n",
       "      <td>0.001</td>\n",
       "      <td>64</td>\n",
       "      <td>0.35</td>\n",
       "      <td>0.2</td>\n",
       "      <td>False</td>\n",
       "      <td>False</td>\n",
       "    </tr>\n",
       "  </tbody>\n",
       "</table>\n",
       "</div>"
      ],
      "text/plain": [
       "    model_id    w  stride rnn_type     lr  batch_size  rnn_dropout  \\\n",
       "0          1  256     128     lstm  0.001          32         0.20   \n",
       "1          2  256     128     lstm  0.001          32         0.35   \n",
       "2          3  256     128     lstm  0.001          32         0.35   \n",
       "3          4  256     128     lstm  0.001          64         0.20   \n",
       "4          5  256     128     lstm  0.001          64         0.35   \n",
       "5          6  256     128     lstm  0.001          64         0.35   \n",
       "6          7  256     128      gru  0.001          32         0.20   \n",
       "7          8  256     128      gru  0.001          32         0.35   \n",
       "8          9  256     128      gru  0.001          32         0.35   \n",
       "9         10  256     128      gru  0.001          64         0.20   \n",
       "10        11  256     128      gru  0.001          64         0.35   \n",
       "11        12  256     128      gru  0.001          64         0.35   \n",
       "\n",
       "    dense_dropout  two_rnn_layers  first_dense  \n",
       "0             0.2           False        False  \n",
       "1             0.0           False        False  \n",
       "2             0.2           False        False  \n",
       "3             0.2           False        False  \n",
       "4             0.0           False        False  \n",
       "5             0.2           False        False  \n",
       "6             0.2           False        False  \n",
       "7             0.0           False        False  \n",
       "8             0.2           False        False  \n",
       "9             0.2           False        False  \n",
       "10            0.0           False        False  \n",
       "11            0.2           False        False  "
      ]
     },
     "execution_count": 4,
     "metadata": {},
     "output_type": "execute_result"
    }
   ],
   "source": [
    "research_set_table = pd.read_csv(research_set_folder + '/' + research_set_folder + '_research_summary.csv')\n",
    "research_set_table"
   ]
  },
  {
   "cell_type": "markdown",
   "metadata": {},
   "source": [
    "### Independent model results"
   ]
  },
  {
   "cell_type": "markdown",
   "metadata": {},
   "source": [
    "#### Show results"
   ]
  },
  {
   "cell_type": "code",
   "execution_count": 7,
   "metadata": {},
   "outputs": [
    {
     "data": {
      "text/plain": [
       "'n_test_subjects=8, w=256, stride=128'"
      ]
     },
     "execution_count": 7,
     "metadata": {},
     "output_type": "execute_result"
    }
   ],
   "source": [
    "ex_model_info = np.load(research_set_folder + '/' + research_set_folder +  '_model_id_2_info.npy')\n",
    "ex_model_info = ex_model_info[()]\n",
    "ex_model_info['optional_data']"
   ]
  },
  {
   "cell_type": "markdown",
   "metadata": {},
   "source": [
    "* #### Train history"
   ]
  },
  {
   "cell_type": "code",
   "execution_count": 8,
   "metadata": {},
   "outputs": [
    {
     "data": {
      "image/png": "[encoded data removed]",
      "text/plain": [
       "<Figure size 432x288 with 1 Axes>"
      ]
     },
     "metadata": {
      "needs_background": "light"
     },
     "output_type": "display_data"
    },
    {
     "data": {
      "image/png": "[encoded data removed]",
      "text/plain": [
       "<Figure size 432x288 with 1 Axes>"
      ]
     },
     "metadata": {
      "needs_background": "light"
     },
     "output_type": "display_data"
    }
   ],
   "source": [
    "train_history = ex_model_info['train_history']\n",
    "plt.close(\"all\")\n",
    "plt.plot(list(range(len(train_history['val_loss']))), train_history['val_loss'], label = 'subconjunto test')\n",
    "plt.plot(list(range(len(train_history['loss']))), train_history['loss'], label = 'subconjunto entren.' )\n",
    "plt.title(\"Progreso en el loss\")\n",
    "plt.legend()\n",
    "\n",
    "plt.show()\n",
    "\n",
    "plt.plot(list(range(len(train_history['val_acc']))), train_history['val_acc'], label = 'subconjunto test')\n",
    "plt.plot(list(range(len(train_history['acc']))), train_history['acc'], label = 'subconjunto entren.')\n",
    "plt.title(\"Progreso en la precisión\")\n",
    "plt.legend()\n",
    "\n",
    "plt.show()"
   ]
  },
  {
   "cell_type": "markdown",
   "metadata": {},
   "source": [
    "* #### Evaluation with test set"
   ]
  },
  {
   "cell_type": "code",
   "execution_count": 10,
   "metadata": {
    "scrolled": false
   },
   "outputs": [
    {
     "name": "stdout",
     "output_type": "stream",
     "text": [
      "Normalized confusion matrix\n",
      "[[0.97 0.03 0.01]\n",
      " [0.2  0.76 0.05]\n",
      " [0.01 0.05 0.93]]\n",
      "Confusion matrix, without normalization\n",
      "[[21212   610   145]\n",
      " [   67   259    16]\n",
      " [    9    35   593]]\n"
     ]
    },
    {
     "data": {
      "image/png": "[encoded data removed]",
      "text/plain": [
       "<Figure size 432x288 with 2 Axes>"
      ]
     },
     "metadata": {
      "needs_background": "light"
     },
     "output_type": "display_data"
    },
    {
     "data": {
      "image/png": "[encoded data removed]",
      "text/plain": [
       "<Figure size 432x288 with 2 Axes>"
      ]
     },
     "metadata": {
      "needs_background": "light"
     },
     "output_type": "display_data"
    }
   ],
   "source": [
    "eval_results = ex_model_info['eval_results']\n",
    "np.set_printoptions(precision=2)\n",
    "\n",
    "# Plot normalized confusion matrix\n",
    "plt.figure()\n",
    "mlu.plot_confusion_matrix_v2(eval_results, classes=['BKG', 'ALERT', 'FALL'], normalize=True,\n",
    "                      title='Matriz de confusión, porcentaje ')\n",
    "\n",
    "# Plot non-normalized confusion matrix\n",
    "plt.figure()\n",
    "mlu.plot_confusion_matrix_v2(eval_results, classes=['BKG', 'ALERT', 'FALL'],\n",
    "                      title='Matriz de confusión, cantidad de muestras')\n",
    "\n",
    "plt.show()"
   ]
  },
  {
   "cell_type": "code",
   "execution_count": 9,
   "metadata": {},
   "outputs": [],
   "source": [
    "model = load_model('researchset5_model_id_4_fullmodel.h5', custom_objects={'loss': mlu.weighted_categorical_crossentropy(target_weights)})"
   ]
  },
  {
   "cell_type": "code",
   "execution_count": 11,
   "metadata": {},
   "outputs": [
    {
     "data": {
      "text/plain": [
       "array([[9.9698442e-01, 2.7751208e-03, 2.4042414e-04],\n",
       "       [9.9749494e-01, 2.1993746e-03, 3.0567677e-04],\n",
       "       [9.9660206e-01, 3.2406547e-03, 1.5735431e-04],\n",
       "       [9.9737263e-01, 2.4516031e-03, 1.7569038e-04],\n",
       "       [9.9659401e-01, 3.0477790e-03, 3.5824525e-04],\n",
       "       [9.9644560e-01, 3.1199846e-03, 4.3440139e-04],\n",
       "       [9.9587458e-01, 3.5127904e-03, 6.1265583e-04]], dtype=float32)"
      ]
     },
     "execution_count": 11,
     "metadata": {},
     "output_type": "execute_result"
    }
   ],
   "source": [
    "eval_results = model.predict(dataTestWinValues[:,:,:3])\n"
   ]
  },
  {
   "cell_type": "code",
   "execution_count": 18,
   "metadata": {},
   "outputs": [
    {
     "data": {
      "text/plain": [
       "(22946, 3)"
      ]
     },
     "execution_count": 18,
     "metadata": {},
     "output_type": "execute_result"
    }
   ],
   "source": [
    "np.shape(eval_results)\n",
    "#eval_results[0:7]"
   ]
  },
  {
   "cell_type": "code",
   "execution_count": 19,
   "metadata": {},
   "outputs": [
    {
     "name": "stdout",
     "output_type": "stream",
     "text": [
      "Normalized confusion matrix\n",
      "[[0.96 0.03 0.  ]\n",
      " [0.19 0.77 0.04]\n",
      " [0.02 0.06 0.91]]\n",
      "Confusion matrix, without normalization\n",
      "[[21129   740    98]\n",
      " [   66   263    13]\n",
      " [   14    41   582]]\n"
     ]
    },
    {
     "data": {
      "image/png": "[encoded data removed]",
      "text/plain": [
       "<Figure size 432x288 with 2 Axes>"
      ]
     },
     "metadata": {
      "needs_background": "light"
     },
     "output_type": "display_data"
    },
    {
     "data": {
      "image/png": "[encoded data removed]",
      "text/plain": [
       "<Figure size 432x288 with 2 Axes>"
      ]
     },
     "metadata": {
      "needs_background": "light"
     },
     "output_type": "display_data"
    }
   ],
   "source": [
    "model_confusion_matrix = confusion_matrix(dataTestWinLabel, np.argmax(eval_results, axis = 1))\n",
    "\n",
    "\n",
    "np.set_printoptions(precision=2)\n",
    "\n",
    "# Plot normalized confusion matrix\n",
    "plt.figure()\n",
    "plot_confusion_matrix_v2(model_confusion_matrix, classes=['BKG', 'ALERT', 'FALL'], normalize=True,\n",
    "                      title='Matriz de confusión, porcentaje ')\n",
    "\n",
    "# Plot non-normalized confusion matrix\n",
    "plt.figure()\n",
    "plot_confusion_matrix_v2(model_confusion_matrix, classes=['BKG', 'ALERT', 'FALL'],\n",
    "                      title='Matriz de confusión, cantidad de muestras')\n",
    "\n",
    "plt.show()"
   ]
  },
  {
   "cell_type": "code",
   "execution_count": 182,
   "metadata": {},
   "outputs": [
    {
     "name": "stdout",
     "output_type": "stream",
     "text": [
      "Normalized confusion matrix\n",
      "[[0.94 0.04 0.02]\n",
      " [0.05 0.93 0.02]\n",
      " [0.02 0.01 0.97]]\n",
      "Confusion matrix, without normalization\n",
      "[[20679   883   404]\n",
      " [   17   317     6]\n",
      " [   14     3   618]]\n"
     ]
    },
    {
     "data": {
      "image/png": "[encoded data removed]",
      "text/plain": [
       "<Figure size 432x288 with 2 Axes>"
      ]
     },
     "metadata": {
      "needs_background": "light"
     },
     "output_type": "display_data"
    },
    {
     "data": {
      "image/png": "[encoded data removed]",
      "text/plain": [
       "<Figure size 432x288 with 2 Axes>"
      ]
     },
     "metadata": {
      "needs_background": "light"
     },
     "output_type": "display_data"
    }
   ],
   "source": [
    "eval_results = np.array([[0.9414, 0.0402, 0.0184],[0.051, 0.9286, 0.0204],[0.0225, 0.006, 0.9716]])\n",
    "eval_results_abs = eval_results*np.array([[21058+799+110],[57+270+15],[9+60+568]])\n",
    "np.set_printoptions(precision=2)\n",
    "\n",
    "\n",
    "\n",
    "# Plot normalized confusion matrix\n",
    "plt.figure()\n",
    "plot_confusion_matrix_v2(eval_results, classes=['BKG', 'ALERT', 'FALL'], normalize=True,\n",
    "                      title='Matriz de confusión, porcentaje ')\n",
    "\n",
    "# Plot non-normalized confusion matrix\n",
    "plt.figure()\n",
    "plot_confusion_matrix_v2(eval_results_abs, classes=['BKG', 'ALERT', 'FALL'],\n",
    "                      title='Matriz de confusión, cantidad de muestras')\n",
    "\n",
    "plt.show()"
   ]
  },
  {
   "cell_type": "code",
   "execution_count": 141,
   "metadata": {},
   "outputs": [
    {
     "data": {
      "text/plain": [
       "array([[95.86,  3.64,  0.5 ],\n",
       "       [16.67, 78.95,  4.39],\n",
       "       [ 1.41,  9.42, 89.17]])"
      ]
     },
     "execution_count": 141,
     "metadata": {},
     "output_type": "execute_result"
    }
   ],
   "source": [
    "(eval_results/np.array([[21058+799+110],[57+270+15],[9+60+568]]))*100"
   ]
  },
  {
   "cell_type": "markdown",
   "metadata": {},
   "source": [
    "#### Load model"
   ]
  },
  {
   "cell_type": "code",
   "execution_count": 7,
   "metadata": {},
   "outputs": [
    {
     "name": "stdout",
     "output_type": "stream",
     "text": [
      "_________________________________________________________________\n",
      "Layer (type)                 Output Shape              Param #   \n",
      "=================================================================\n",
      "batch_normalization_4 (Batch (None, 256, 3)            12        \n",
      "_________________________________________________________________\n",
      "dropout_5 (Dropout)          (None, 256, 3)            0         \n",
      "_________________________________________________________________\n",
      "cu_dnnlstm_4 (CuDNNLSTM)     (None, 32)                4736      \n",
      "_________________________________________________________________\n",
      "dropout_6 (Dropout)          (None, 32)                0         \n",
      "_________________________________________________________________\n",
      "dense_4 (Dense)              (None, 3)                 99        \n",
      "=================================================================\n",
      "Total params: 4,847\n",
      "Trainable params: 4,841\n",
      "Non-trainable params: 6\n",
      "_________________________________________________________________\n"
     ]
    }
   ],
   "source": [
    "ex_model = load_model('researchset5_model_id_4_fullmodel.h5', custom_objects={'loss': mlu.weighted_categorical_crossentropy(target_weights)})\n",
    "ex_model.summary()"
   ]
  },
  {
   "cell_type": "code",
   "execution_count": 9,
   "metadata": {},
   "outputs": [],
   "source": [
    "ex_model.compile(optimizer='adam', loss='categorical_crossentropy', metrics=['accuracy'])"
   ]
  },
  {
   "cell_type": "code",
   "execution_count": 10,
   "metadata": {},
   "outputs": [],
   "source": [
    "ex_model.save('researchset5_model_id_4_fullmodel_c.h5')"
   ]
  },
  {
   "cell_type": "code",
   "execution_count": 20,
   "metadata": {},
   "outputs": [
    {
     "name": "stdout",
     "output_type": "stream",
     "text": [
      "_________________________________________________________________\n",
      "Layer (type)                 Output Shape              Param #   \n",
      "=================================================================\n",
      "dense_10 (Dense)             (None, 256, 32)           128       \n",
      "_________________________________________________________________\n",
      "batch_normalization_6 (Batch (None, 256, 32)           128       \n",
      "_________________________________________________________________\n",
      "dropout_10 (Dropout)         (None, 256, 32)           0         \n",
      "_________________________________________________________________\n",
      "lstm_4 (LSTM)                (None, 32)                8320      \n",
      "_________________________________________________________________\n",
      "dropout_11 (Dropout)         (None, 32)                0         \n",
      "_________________________________________________________________\n",
      "dense_11 (Dense)             (None, 3)                 99        \n",
      "=================================================================\n",
      "Total params: 8,675\n",
      "Trainable params: 8,611\n",
      "Non-trainable params: 64\n",
      "_________________________________________________________________\n"
     ]
    }
   ],
   "source": [
    "from keras.layers import LSTM, GRU, Dropout\n",
    "\n",
    "\n",
    "model_paper_model_100ep = Sequential()\n",
    "\n",
    "model_paper_model_100ep.add(Dense(32, batch_input_shape = (None, 256, 3)))\n",
    "\n",
    "model_paper_model_100ep.add(BatchNormalization())\n",
    "\n",
    "model_paper_model_100ep.add(Dropout(0.5))\n",
    "\n",
    "model_paper_model_100ep.add(LSTM((32)))\n",
    "\n",
    "model_paper_model_100ep.add(Dropout(0.5))\n",
    "\n",
    "model_paper_model_100ep.add(Dense(3,activation='softmax'))\n",
    "\n",
    "model_paper_model_100ep.compile(optimizer='adam', loss='categorical_crossentropy', metrics=['accuracy'])\n",
    "\n",
    "model_paper_model_100ep.summary()\n",
    "\n",
    "# history_paper_model_100ep = model_paper_model_100ep.fit(dataTrWinValues[:,:,:3], dataTrWinLabelOneHot, epochs=1, validation_data = (dataTestWinValues[:,:,:3], dataTestWinLabelOneHot))\n",
    "\n",
    "model_paper_model_100ep.save('test.h5')"
   ]
  },
  {
   "cell_type": "code",
   "execution_count": 8,
   "metadata": {},
   "outputs": [],
   "source": [
    "from keras.layers import LSTM, GRU\n",
    "\n",
    "model_non_cudnn = Sequential()\n",
    "model_non_cudnn.add(BatchNormalization(batch_input_shape = (None, 256, 3)))\n",
    "model_non_cudnn.add(Dropout(0.35))\n",
    "model_non_cudnn.add(LSTM((32)))\n",
    "model_non_cudnn.add(Dropout(0.2))\n",
    "model_non_cudnn.add(Dense(3,activation='softmax'))\n",
    "\n",
    "model_non_cudnn.load_weights('researchset5_model_id_4_fullmodel.h5')"
   ]
  },
  {
   "cell_type": "code",
   "execution_count": 9,
   "metadata": {},
   "outputs": [
    {
     "name": "stdout",
     "output_type": "stream",
     "text": [
      "_________________________________________________________________\n",
      "Layer (type)                 Output Shape              Param #   \n",
      "=================================================================\n",
      "batch_normalization_1 (Batch (None, 256, 3)            12        \n",
      "_________________________________________________________________\n",
      "dropout_1 (Dropout)          (None, 256, 3)            0         \n",
      "_________________________________________________________________\n",
      "lstm_1 (LSTM)                (None, 32)                4608      \n",
      "_________________________________________________________________\n",
      "dropout_2 (Dropout)          (None, 32)                0         \n",
      "_________________________________________________________________\n",
      "dense_1 (Dense)              (None, 3)                 99        \n",
      "=================================================================\n",
      "Total params: 4,719\n",
      "Trainable params: 4,713\n",
      "Non-trainable params: 6\n",
      "_________________________________________________________________\n"
     ]
    }
   ],
   "source": [
    "model_non_cudnn.summary()\n",
    "model_non_cudnn.save('researchset5_model_id_4_fullmodel_non_cudnn.h5')"
   ]
  },
  {
   "cell_type": "code",
   "execution_count": 10,
   "metadata": {},
   "outputs": [
    {
     "data": {
      "text/plain": [
       "(22946, 3)"
      ]
     },
     "execution_count": 10,
     "metadata": {},
     "output_type": "execute_result"
    }
   ],
   "source": [
    "model_prediction = model_non_cudnn.predict(dataTestWinValues[:,:,:3])\n",
    "np.shape(model_prediction)"
   ]
  },
  {
   "cell_type": "code",
   "execution_count": 11,
   "metadata": {},
   "outputs": [
    {
     "name": "stdout",
     "output_type": "stream",
     "text": [
      "Confusion matrix, without normalization\n",
      "[[20506  1392    69]\n",
      " [  160   166    16]\n",
      " [   45    52   540]]\n",
      "Normalized confusion matrix\n",
      "[[0.93 0.06 0.  ]\n",
      " [0.47 0.49 0.05]\n",
      " [0.07 0.08 0.85]]\n"
     ]
    },
    {
     "data": {
      "image/png": "[encoded data removed]",
      "text/plain": [
       "<Figure size 432x288 with 2 Axes>"
      ]
     },
     "metadata": {
      "needs_background": "light"
     },
     "output_type": "display_data"
    },
    {
     "data": {
      "image/png": "[encoded data removed]",
      "text/plain": [
       "<Figure size 432x288 with 2 Axes>"
      ]
     },
     "metadata": {
      "needs_background": "light"
     },
     "output_type": "display_data"
    }
   ],
   "source": [
    "model_confusion_matrix = confusion_matrix(dataTestWinLabel, np.argmax(model_prediction, axis = 1))\n",
    "\n",
    "np.set_printoptions(precision=2)\n",
    "\n",
    "# Plot non-normalized confusion matrix\n",
    "plt.figure()\n",
    "plot_confusion_matrix_v2(model_confusion_matrix, classes=['BKG', 'ALERT', 'FALL'],\n",
    "                      title='Confusion matrix, without normalization')\n",
    "\n",
    "# Plot normalized confusion matrix\n",
    "plt.figure()\n",
    "plot_confusion_matrix_v2(model_confusion_matrix, classes=['BKG', 'ALERT', 'FALL'], normalize=True,\n",
    "                      title='Normalized confusion matrix')\n",
    "\n",
    "plt.show()"
   ]
  },
  {
   "cell_type": "code",
   "execution_count": 12,
   "metadata": {},
   "outputs": [
    {
     "name": "stdout",
     "output_type": "stream",
     "text": [
      "Train on 94042 samples, validate on 22946 samples\n",
      "Epoch 1/10\n",
      "94042/94042 [==============================] - 776s 8ms/step - loss: 1.8092 - acc: 0.7334 - val_loss: 1.9388 - val_acc: 0.7656\n",
      "Epoch 2/10\n",
      "94042/94042 [==============================] - 772s 8ms/step - loss: 2.3113 - acc: 0.6196 - val_loss: 2.3199 - val_acc: 0.8056\n",
      "Epoch 3/10\n",
      "94042/94042 [==============================] - 774s 8ms/step - loss: 2.1161 - acc: 0.6924 - val_loss: 2.0186 - val_acc: 0.7416\n",
      "Epoch 4/10\n",
      "94042/94042 [==============================] - 776s 8ms/step - loss: 2.2608 - acc: 0.6319 - val_loss: 2.5374 - val_acc: 0.5411\n",
      "Epoch 5/10\n",
      "94042/94042 [==============================] - 777s 8ms/step - loss: 2.5414 - acc: 0.5244 - val_loss: 2.5589 - val_acc: 0.5466\n",
      "Epoch 6/10\n",
      "94042/94042 [==============================] - 777s 8ms/step - loss: 2.4624 - acc: 0.5521 - val_loss: 2.3736 - val_acc: 0.6012\n",
      "Epoch 7/10\n",
      "94042/94042 [==============================] - 777s 8ms/step - loss: 2.4687 - acc: 0.5438 - val_loss: 2.3701 - val_acc: 0.5661\n",
      "Epoch 8/10\n",
      "94042/94042 [==============================] - 777s 8ms/step - loss: 2.4318 - acc: 0.5509 - val_loss: 2.3653 - val_acc: 0.6225\n",
      "Epoch 9/10\n",
      "94042/94042 [==============================] - 777s 8ms/step - loss: 2.4388 - acc: 0.5535 - val_loss: 2.3636 - val_acc: 0.5813\n",
      "Epoch 10/10\n",
      "94042/94042 [==============================] - 778s 8ms/step - loss: 2.4588 - acc: 0.5415 - val_loss: 2.3919 - val_acc: 0.5990\n"
     ]
    }
   ],
   "source": [
    "opt_adam = Adam(lr=0.008)\n",
    "model_non_cudnn.compile(optimizer=opt_adam, loss=mlu.weighted_categorical_crossentropy(target_weights), metrics=['accuracy'])\n",
    "\n",
    "model_train_history = model_non_cudnn.fit(dataTrWinValues[:,:,:3], dataTrWinLabelOneHot, batch_size=32, epochs=10, validation_data = (dataTestWinValues[:,:,:3], dataTestWinLabelOneHot))"
   ]
  },
  {
   "cell_type": "code",
   "execution_count": 13,
   "metadata": {},
   "outputs": [
    {
     "ename": "NameError",
     "evalue": "name 'model' is not defined",
     "output_type": "error",
     "traceback": [
      "\u001b[0;31m---------------------------------------------------------------------------\u001b[0m",
      "\u001b[0;31mNameError\u001b[0m                                 Traceback (most recent call last)",
      "\u001b[0;32m<ipython-input-13-9731e119a049>\u001b[0m in \u001b[0;36m<module>\u001b[0;34m\u001b[0m\n\u001b[0;32m----> 1\u001b[0;31m \u001b[0mmodel\u001b[0m\u001b[0;34m.\u001b[0m\u001b[0msave\u001b[0m\u001b[0;34m(\u001b[0m\u001b[0;34m'researchset5_model_id_4_fullmodel_non_cudnn_trained.h5'\u001b[0m\u001b[0;34m)\u001b[0m\u001b[0;34m\u001b[0m\u001b[0;34m\u001b[0m\u001b[0m\n\u001b[0m",
      "\u001b[0;31mNameError\u001b[0m: name 'model' is not defined"
     ]
    }
   ],
   "source": [
    "model.save('researchset5_model_id_4_fullmodel_non_cudnn_trained.h5')"
   ]
  },
  {
   "cell_type": "code",
   "execution_count": 1,
   "metadata": {},
   "outputs": [],
   "source": [
    "import random\n",
    "import math"
   ]
  },
  {
   "cell_type": "code",
   "execution_count": 13,
   "metadata": {},
   "outputs": [],
   "source": [
    "subjectType = {\n",
    "            \"SA01\":1,\"SA02\":1,\"SA03\":1,\"SA04\":1,\"SA05\":1,\n",
    "            \"SA06\":1,\"SA07\":1,\"SA08\":1,\"SA09\":1,\"SA10\":1,\n",
    "            \"SA11\":1,\"SA12\":1,\"SA13\":1,\"SA14\":1,\"SA15\":1,\n",
    "            \"SA16\":1,\"SA17\":1,\"SA18\":1,\"SA19\":1,\"SA20\":1,\n",
    "            \"SA21\":1,\"SA22\":1,\"SA23\":1,\n",
    "            \n",
    "            \"SE01\":2,\"SE02\":2,\"SE03\":2,\"SE04\":2,\"SE05\":2,\n",
    "            \"SE06\":1,\"SE07\":2,\"SE08\":2,\"SE09\":2,\"SE10\":2,\n",
    "            \"SE11\":2,\"SE12\":2,\"SE13\":2,\"SE14\":2,\"SE15\":2\n",
    "            }\n",
    "\n",
    "type1 = [x for x in subjectType.keys() if subjectType[x] == 1 ] # and not x in [\"SA15\", \"SA03\", \"SE06\", \"SA22\", \"SA19\", \"SE14\", \"SE08\", \"SE07\"]\n",
    "type2 = [x for x in subjectType.keys() if subjectType[x] == 2 ] # and not x in [\"SA15\", \"SA03\", \"SE06\", \"SA22\", \"SA19\", \"SE14\", \"SE08\", \"SE07\"]\n",
    "\n"
   ]
  },
  {
   "cell_type": "code",
   "execution_count": 14,
   "metadata": {},
   "outputs": [
    {
     "data": {
      "text/plain": [
       "['SA03', 'SA15', 'SA20', 'SA02']"
      ]
     },
     "execution_count": 14,
     "metadata": {},
     "output_type": "execute_result"
    }
   ],
   "source": [
    "s_test_type1 = random.sample(type1,4)\n",
    "s_test_type1"
   ]
  },
  {
   "cell_type": "code",
   "execution_count": 15,
   "metadata": {},
   "outputs": [
    {
     "data": {
      "text/plain": [
       "['SE04', 'SE14', 'SE07', 'SE11']"
      ]
     },
     "execution_count": 15,
     "metadata": {},
     "output_type": "execute_result"
    }
   ],
   "source": [
    "s_test_type2 = random.sample(type2,4)\n",
    "s_test_type2"
   ]
  },
  {
   "cell_type": "code",
   "execution_count": 16,
   "metadata": {},
   "outputs": [
    {
     "data": {
      "text/plain": [
       "['SA21',\n",
       " 'SA10',\n",
       " 'SA19',\n",
       " 'SA12',\n",
       " 'SA13',\n",
       " 'SE06',\n",
       " 'SA18',\n",
       " 'SA07',\n",
       " 'SA23',\n",
       " 'SA04',\n",
       " 'SA16',\n",
       " 'SA14',\n",
       " 'SA05',\n",
       " 'SA22',\n",
       " 'SA06',\n",
       " 'SA08',\n",
       " 'SA09',\n",
       " 'SA17',\n",
       " 'SA01',\n",
       " 'SA11']"
      ]
     },
     "execution_count": 16,
     "metadata": {},
     "output_type": "execute_result"
    }
   ],
   "source": [
    "s_cv_type1 = list(set(type1) - set(s_test_type1))\n",
    "s_cv_type1"
   ]
  },
  {
   "cell_type": "code",
   "execution_count": 17,
   "metadata": {},
   "outputs": [
    {
     "data": {
      "text/plain": [
       "['SE01',\n",
       " 'SE08',\n",
       " 'SE13',\n",
       " 'SE03',\n",
       " 'SE10',\n",
       " 'SE12',\n",
       " 'SE15',\n",
       " 'SE05',\n",
       " 'SE09',\n",
       " 'SE02']"
      ]
     },
     "execution_count": 17,
     "metadata": {},
     "output_type": "execute_result"
    }
   ],
   "source": [
    "s_cv_type2 = list(set(type2) - set(s_test_type2))\n",
    "s_cv_type2"
   ]
  },
  {
   "cell_type": "code",
   "execution_count": 18,
   "metadata": {},
   "outputs": [],
   "source": [
    "def randomDisjointSelection(the_list,K):\n",
    "    \n",
    "    samples_per_group = math.ceil(len(the_list)/K)\n",
    "    res_list_of_groups = list()\n",
    "    aux_list = list(the_list)\n",
    "    \n",
    "    for i in range(K):\n",
    "        if len(aux_list) > samples_per_group:\n",
    "            current_group = list()\n",
    "            for s in range(samples_per_group):\n",
    "                random_index_selected = random.choice(range(len(aux_list)))\n",
    "                current_group.append(aux_list.pop(random_index_selected))\n",
    "            res_list_of_groups.append(current_group)\n",
    "        elif len(aux_list) != 0:\n",
    "            res_list_of_groups.append(list(aux_list))\n",
    "    print(aux_list)\n",
    "    return res_list_of_groups\n",
    "    "
   ]
  },
  {
   "cell_type": "code",
   "execution_count": 19,
   "metadata": {},
   "outputs": [
    {
     "name": "stdout",
     "output_type": "stream",
     "text": [
      "['SA23', 'SA06']\n"
     ]
    }
   ],
   "source": [
    "SA_dis_sel = randomDisjointSelection(s_cv_type1, 10)"
   ]
  },
  {
   "cell_type": "code",
   "execution_count": 20,
   "metadata": {},
   "outputs": [
    {
     "name": "stdout",
     "output_type": "stream",
     "text": [
      "['SE02']\n"
     ]
    }
   ],
   "source": [
    "SE_dis_sel = randomDisjointSelection(s_cv_type2,10)"
   ]
  },
  {
   "cell_type": "code",
   "execution_count": 21,
   "metadata": {},
   "outputs": [],
   "source": [
    "selection = dict()\n",
    "for i in range(len(SA_dis_sel)):\n",
    "    selection['group' + str(i+1)] = [SA_dis_sel[i], SE_dis_sel[i]]"
   ]
  },
  {
   "cell_type": "code",
   "execution_count": 23,
   "metadata": {},
   "outputs": [],
   "source": [
    "selection['test'] = [s_test_type1, s_test_type2]"
   ]
  },
  {
   "cell_type": "code",
   "execution_count": 24,
   "metadata": {},
   "outputs": [
    {
     "data": {
      "text/plain": [
       "{'group1': [['SA19', 'SA04'], ['SE13']],\n",
       " 'group2': [['SA21', 'SA01'], ['SE08']],\n",
       " 'group3': [['SA10', 'SA12'], ['SE09']],\n",
       " 'group4': [['SA13', 'SE06'], ['SE10']],\n",
       " 'group5': [['SA18', 'SA08'], ['SE15']],\n",
       " 'group6': [['SA14', 'SA09'], ['SE05']],\n",
       " 'group7': [['SA17', 'SA05'], ['SE01']],\n",
       " 'group8': [['SA07', 'SA16'], ['SE12']],\n",
       " 'group9': [['SA22', 'SA11'], ['SE03']],\n",
       " 'group10': [['SA23', 'SA06'], ['SE02']],\n",
       " 'test': [['SA03', 'SA15', 'SA20', 'SA02'], ['SE04', 'SE14', 'SE07', 'SE11']]}"
      ]
     },
     "execution_count": 24,
     "metadata": {},
     "output_type": "execute_result"
    }
   ],
   "source": [
    "selection"
   ]
  },
  {
   "cell_type": "code",
   "execution_count": 25,
   "metadata": {},
   "outputs": [],
   "source": [
    "import json as js"
   ]
  },
  {
   "cell_type": "code",
   "execution_count": 26,
   "metadata": {},
   "outputs": [],
   "source": [
    "json = js.dumps(selection)\n",
    "f = open(\"10_cross_validation_organization.json\",\"w\")\n",
    "f.write(json)\n",
    "f.close()"
   ]
  },
  {
   "cell_type": "code",
   "execution_count": 27,
   "metadata": {},
   "outputs": [
    {
     "name": "stdout",
     "output_type": "stream",
     "text": [
      "{'group1': [['SA19', 'SA04'], ['SE13']], 'group2': [['SA21', 'SA01'], ['SE08']], 'group3': [['SA10', 'SA12'], ['SE09']], 'group4': [['SA13', 'SE06'], ['SE10']], 'group5': [['SA18', 'SA08'], ['SE15']], 'group6': [['SA14', 'SA09'], ['SE05']], 'group7': [['SA17', 'SA05'], ['SE01']], 'group8': [['SA07', 'SA16'], ['SE12']], 'group9': [['SA22', 'SA11'], ['SE03']], 'group10': [['SA23', 'SA06'], ['SE02']], 'test': [['SA03', 'SA15', 'SA20', 'SA02'], ['SE04', 'SE14', 'SE07', 'SE11']]}\n"
     ]
    }
   ],
   "source": [
    "with open(\"10_cross_validation_organization.json\") as json_file:  \n",
    "    data = js.load(json_file)\n",
    "    print(data)"
   ]
  },
  {
   "cell_type": "code",
   "execution_count": null,
   "metadata": {},
   "outputs": [],
   "source": []
  },
  {
   "cell_type": "code",
   "execution_count": null,
   "metadata": {},
   "outputs": [],
   "source": []
  }
 ],
 "metadata": {
  "kernelspec": {
   "display_name": "Python 3",
   "language": "python",
   "name": "python3"
  },
  "language_info": {
   "codemirror_mode": {
    "name": "ipython",
    "version": 3
   },
   "file_extension": ".py",
   "mimetype": "text/x-python",
   "name": "python",
   "nbconvert_exporter": "python",
   "pygments_lexer": "ipython3",
   "version": "3.6.8"
  }
 },
 "nbformat": 4,
 "nbformat_minor": 2
}
